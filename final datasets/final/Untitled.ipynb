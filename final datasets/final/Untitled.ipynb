{
 "cells": [
  {
   "cell_type": "code",
   "execution_count": 1,
   "metadata": {},
   "outputs": [],
   "source": [
    "import warnings\n",
    "warnings.simplefilter(\"ignore\")"
   ]
  },
  {
   "cell_type": "code",
   "execution_count": 2,
   "metadata": {},
   "outputs": [],
   "source": [
    "import pandas as pd"
   ]
  },
  {
   "cell_type": "code",
   "execution_count": 64,
   "metadata": {},
   "outputs": [
    {
     "data": {
      "text/html": [
       "<div>\n",
       "<style scoped>\n",
       "    .dataframe tbody tr th:only-of-type {\n",
       "        vertical-align: middle;\n",
       "    }\n",
       "\n",
       "    .dataframe tbody tr th {\n",
       "        vertical-align: top;\n",
       "    }\n",
       "\n",
       "    .dataframe thead th {\n",
       "        text-align: right;\n",
       "    }\n",
       "</style>\n",
       "<table border=\"1\" class=\"dataframe\">\n",
       "  <thead>\n",
       "    <tr style=\"text-align: right;\">\n",
       "      <th></th>\n",
       "      <th>Sights &amp; Landmarks</th>\n",
       "      <th>Sacred &amp; Religious Sites</th>\n",
       "      <th>Architecture, Art, History, &amp; Museums</th>\n",
       "      <th>Sports &amp; Outdoor Activities</th>\n",
       "      <th>Water &amp; Seaside Sports &amp; Activities</th>\n",
       "      <th>Bars, Clubs, &amp; Pubs</th>\n",
       "      <th>Fun, Games, &amp; Entertainment Centers</th>\n",
       "      <th>Gift &amp; Specialty Shops</th>\n",
       "      <th>Military Bases &amp; Facilities</th>\n",
       "      <th>Places in the City</th>\n",
       "      <th>Nature &amp; Wildlife Areas</th>\n",
       "      <th>Observation Decks &amp; Towers</th>\n",
       "    </tr>\n",
       "  </thead>\n",
       "  <tbody>\n",
       "    <tr>\n",
       "      <th>0</th>\n",
       "      <td>Sights &amp; Landmarks</td>\n",
       "      <td>Sacred &amp; Religious Sites</td>\n",
       "      <td>Architecture, Art, History, &amp; Museums</td>\n",
       "      <td>Sports &amp; Outdoor Activities</td>\n",
       "      <td>Water &amp; Seaside Sports &amp; Activities</td>\n",
       "      <td>Bars, Clubs, &amp; Pubs</td>\n",
       "      <td>Fun &amp; Games</td>\n",
       "      <td>Gift &amp; Specialty Shops</td>\n",
       "      <td>Military Bases &amp; Facilities</td>\n",
       "      <td>City Place</td>\n",
       "      <td>Nature &amp; Wildlife Areas</td>\n",
       "      <td>Observation Decks &amp; Towers</td>\n",
       "    </tr>\n",
       "    <tr>\n",
       "      <th>1</th>\n",
       "      <td>Points of Interest &amp; Landmarks</td>\n",
       "      <td>Sacred</td>\n",
       "      <td>Architecture</td>\n",
       "      <td>Water Sports</td>\n",
       "      <td>Snorkeling/Diving</td>\n",
       "      <td>Bar/Club</td>\n",
       "      <td>Fun</td>\n",
       "      <td>Gift</td>\n",
       "      <td>Military Museum</td>\n",
       "      <td>City Places</td>\n",
       "      <td>UNESCO World Heritage-Natural Site</td>\n",
       "      <td>Lookout</td>\n",
       "    </tr>\n",
       "    <tr>\n",
       "      <th>2</th>\n",
       "      <td>Sight</td>\n",
       "      <td>Religious Site</td>\n",
       "      <td>Art</td>\n",
       "      <td>Water Sport</td>\n",
       "      <td>Snorkeling</td>\n",
       "      <td>Bars &amp; Clubs</td>\n",
       "      <td>Game</td>\n",
       "      <td>Gifts</td>\n",
       "      <td>Military Museums</td>\n",
       "      <td>Government Building</td>\n",
       "      <td>UNESCO</td>\n",
       "      <td>Lookouts</td>\n",
       "    </tr>\n",
       "    <tr>\n",
       "      <th>3</th>\n",
       "      <td>Sights</td>\n",
       "      <td>Religious Sites</td>\n",
       "      <td>History</td>\n",
       "      <td>Sports</td>\n",
       "      <td>Diving</td>\n",
       "      <td>Club &amp; Pub Tours</td>\n",
       "      <td>Games</td>\n",
       "      <td>Specialty Shop</td>\n",
       "      <td>Military Base</td>\n",
       "      <td>Government Buildings</td>\n",
       "      <td>World Heritage-Natural Site</td>\n",
       "      <td>Observation Deck</td>\n",
       "    </tr>\n",
       "    <tr>\n",
       "      <th>4</th>\n",
       "      <td>Landmark</td>\n",
       "      <td>Churches &amp; Cathedrals</td>\n",
       "      <td>Museum</td>\n",
       "      <td>Sport</td>\n",
       "      <td>Water Sports</td>\n",
       "      <td>Bar</td>\n",
       "      <td>Casinos &amp; Gambling</td>\n",
       "      <td>Specialty Shops</td>\n",
       "      <td>Military Bases</td>\n",
       "      <td>Featured Neighborhood</td>\n",
       "      <td>World Heritage-Natural Sites</td>\n",
       "      <td>Observation Decks</td>\n",
       "    </tr>\n",
       "  </tbody>\n",
       "</table>\n",
       "</div>"
      ],
      "text/plain": [
       "               Sights & Landmarks  Sacred & Religious Sites  \\\n",
       "0              Sights & Landmarks  Sacred & Religious Sites   \n",
       "1  Points of Interest & Landmarks                    Sacred   \n",
       "2                           Sight            Religious Site   \n",
       "3                          Sights           Religious Sites   \n",
       "4                        Landmark     Churches & Cathedrals   \n",
       "\n",
       "   Architecture, Art, History, & Museums  Sports & Outdoor Activities  \\\n",
       "0  Architecture, Art, History, & Museums  Sports & Outdoor Activities   \n",
       "1                           Architecture                 Water Sports   \n",
       "2                                    Art                  Water Sport   \n",
       "3                                History                       Sports   \n",
       "4                                 Museum                        Sport   \n",
       "\n",
       "   Water & Seaside Sports & Activities  Bars, Clubs, & Pubs  \\\n",
       "0  Water & Seaside Sports & Activities  Bars, Clubs, & Pubs   \n",
       "1                    Snorkeling/Diving             Bar/Club   \n",
       "2                           Snorkeling         Bars & Clubs   \n",
       "3                               Diving     Club & Pub Tours   \n",
       "4                         Water Sports                  Bar   \n",
       "\n",
       "  Fun, Games, & Entertainment Centers  Gift & Specialty Shops  \\\n",
       "0                         Fun & Games  Gift & Specialty Shops   \n",
       "1                                 Fun                    Gift   \n",
       "2                                Game                   Gifts   \n",
       "3                               Games          Specialty Shop   \n",
       "4                  Casinos & Gambling         Specialty Shops   \n",
       "\n",
       "   Military Bases & Facilities     Places in the City  \\\n",
       "0  Military Bases & Facilities             City Place   \n",
       "1              Military Museum            City Places   \n",
       "2             Military Museums    Government Building   \n",
       "3                Military Base   Government Buildings   \n",
       "4               Military Bases  Featured Neighborhood   \n",
       "\n",
       "              Nature & Wildlife Areas  Observation Decks & Towers  \n",
       "0             Nature & Wildlife Areas  Observation Decks & Towers  \n",
       "1  UNESCO World Heritage-Natural Site                     Lookout  \n",
       "2                              UNESCO                    Lookouts  \n",
       "3         World Heritage-Natural Site            Observation Deck  \n",
       "4        World Heritage-Natural Sites           Observation Decks  "
      ]
     },
     "execution_count": 64,
     "metadata": {},
     "output_type": "execute_result"
    }
   ],
   "source": [
    "df = pd.read_excel(\"tours-tags.xlsx\")\n",
    "df.head()"
   ]
  },
  {
   "cell_type": "code",
   "execution_count": 65,
   "metadata": {},
   "outputs": [
    {
     "data": {
      "text/plain": [
       "(56, 12)"
      ]
     },
     "execution_count": 65,
     "metadata": {},
     "output_type": "execute_result"
    }
   ],
   "source": [
    "df.shape"
   ]
  },
  {
   "cell_type": "code",
   "execution_count": 66,
   "metadata": {},
   "outputs": [
    {
     "data": {
      "text/plain": [
       "Sights & Landmarks                       object\n",
       "Sacred & Religious Sites                 object\n",
       "Architecture, Art, History, & Museums    object\n",
       "Sports & Outdoor Activities              object\n",
       "Water & Seaside Sports & Activities      object\n",
       "Bars, Clubs, & Pubs                      object\n",
       "Fun, Games, & Entertainment Centers      object\n",
       "Gift & Specialty Shops                   object\n",
       "Military Bases & Facilities              object\n",
       "Places in the City                       object\n",
       "Nature & Wildlife Areas                  object\n",
       "Observation Decks & Towers               object\n",
       "dtype: object"
      ]
     },
     "execution_count": 66,
     "metadata": {},
     "output_type": "execute_result"
    }
   ],
   "source": [
    "df.dtypes"
   ]
  },
  {
   "cell_type": "code",
   "execution_count": 57,
   "metadata": {},
   "outputs": [
    {
     "data": {
      "text/plain": [
       "1    490\n",
       "Name: name, dtype: int64"
      ]
     },
     "execution_count": 57,
     "metadata": {},
     "output_type": "execute_result"
    }
   ],
   "source": [
    "df.name.value_counts().value_counts()"
   ]
  },
  {
   "cell_type": "code",
   "execution_count": 58,
   "metadata": {},
   "outputs": [
    {
     "data": {
      "text/html": [
       "<div>\n",
       "<style scoped>\n",
       "    .dataframe tbody tr th:only-of-type {\n",
       "        vertical-align: middle;\n",
       "    }\n",
       "\n",
       "    .dataframe tbody tr th {\n",
       "        vertical-align: top;\n",
       "    }\n",
       "\n",
       "    .dataframe thead th {\n",
       "        text-align: right;\n",
       "    }\n",
       "</style>\n",
       "<table border=\"1\" class=\"dataframe\">\n",
       "  <thead>\n",
       "    <tr style=\"text-align: right;\">\n",
       "      <th></th>\n",
       "      <th>user_id</th>\n",
       "      <th>username</th>\n",
       "      <th>name</th>\n",
       "      <th>ratings</th>\n",
       "    </tr>\n",
       "  </thead>\n",
       "  <tbody>\n",
       "    <tr>\n",
       "      <th>0</th>\n",
       "      <td>1</td>\n",
       "      <td>Erra Dacuba</td>\n",
       "      <td>1730 Jesuit House</td>\n",
       "      <td>4</td>\n",
       "    </tr>\n",
       "    <tr>\n",
       "      <th>1</th>\n",
       "      <td>1</td>\n",
       "      <td>Erra Dacuba</td>\n",
       "      <td>Ace Water Spa</td>\n",
       "      <td>5</td>\n",
       "    </tr>\n",
       "    <tr>\n",
       "      <th>2</th>\n",
       "      <td>1</td>\n",
       "      <td>Erra Dacuba</td>\n",
       "      <td>Activefun Bonifacio High Street</td>\n",
       "      <td>5</td>\n",
       "    </tr>\n",
       "    <tr>\n",
       "      <th>3</th>\n",
       "      <td>1</td>\n",
       "      <td>Erra Dacuba</td>\n",
       "      <td>Aduana</td>\n",
       "      <td>5</td>\n",
       "    </tr>\n",
       "    <tr>\n",
       "      <th>4</th>\n",
       "      <td>1</td>\n",
       "      <td>Erra Dacuba</td>\n",
       "      <td>Agusan River</td>\n",
       "      <td>4</td>\n",
       "    </tr>\n",
       "  </tbody>\n",
       "</table>\n",
       "</div>"
      ],
      "text/plain": [
       "   user_id     username                             name  ratings\n",
       "0        1  Erra Dacuba                1730 Jesuit House        4\n",
       "1        1  Erra Dacuba                    Ace Water Spa        5\n",
       "2        1  Erra Dacuba  Activefun Bonifacio High Street        5\n",
       "3        1  Erra Dacuba                           Aduana        5\n",
       "4        1  Erra Dacuba                     Agusan River        4"
      ]
     },
     "execution_count": 58,
     "metadata": {},
     "output_type": "execute_result"
    }
   ],
   "source": [
    "df = pd.read_excel(\"tours_and_attractions_review.xlsx\")\n",
    "df.head()"
   ]
  },
  {
   "cell_type": "code",
   "execution_count": 59,
   "metadata": {},
   "outputs": [
    {
     "data": {
      "text/plain": [
       "(1195, 4)"
      ]
     },
     "execution_count": 59,
     "metadata": {},
     "output_type": "execute_result"
    }
   ],
   "source": [
    "df.shape"
   ]
  },
  {
   "cell_type": "code",
   "execution_count": 60,
   "metadata": {},
   "outputs": [
    {
     "data": {
      "text/plain": [
       "user_id      int64\n",
       "username    object\n",
       "name        object\n",
       "ratings      int64\n",
       "dtype: object"
      ]
     },
     "execution_count": 60,
     "metadata": {},
     "output_type": "execute_result"
    }
   ],
   "source": [
    "df.dtypes"
   ]
  },
  {
   "cell_type": "code",
   "execution_count": 61,
   "metadata": {},
   "outputs": [
    {
     "data": {
      "text/plain": [
       "2    216\n",
       "3    140\n",
       "4     63\n",
       "5     18\n",
       "1      1\n",
       "Name: name, dtype: int64"
      ]
     },
     "execution_count": 61,
     "metadata": {},
     "output_type": "execute_result"
    }
   ],
   "source": [
    "df.name.value_counts().value_counts()"
   ]
  },
  {
   "cell_type": "code",
   "execution_count": 62,
   "metadata": {},
   "outputs": [
    {
     "data": {
      "text/plain": [
       "9     109\n",
       "10     17\n",
       "18      1\n",
       "13      1\n",
       "8       1\n",
       "5       1\n",
       "Name: user_id, dtype: int64"
      ]
     },
     "execution_count": 62,
     "metadata": {},
     "output_type": "execute_result"
    }
   ],
   "source": [
    "df.user_id.value_counts().value_counts()"
   ]
  },
  {
   "cell_type": "code",
   "execution_count": 63,
   "metadata": {},
   "outputs": [
    {
     "data": {
      "text/plain": [
       "9.192307692307692"
      ]
     },
     "execution_count": 63,
     "metadata": {},
     "output_type": "execute_result"
    }
   ],
   "source": [
    "df.user_id.value_counts().mean()"
   ]
  },
  {
   "cell_type": "code",
   "execution_count": null,
   "metadata": {},
   "outputs": [],
   "source": []
  }
 ],
 "metadata": {
  "kernelspec": {
   "display_name": "Python 3",
   "language": "python",
   "name": "python3"
  },
  "language_info": {
   "codemirror_mode": {
    "name": "ipython",
    "version": 3
   },
   "file_extension": ".py",
   "mimetype": "text/x-python",
   "name": "python",
   "nbconvert_exporter": "python",
   "pygments_lexer": "ipython3",
   "version": "3.6.9"
  }
 },
 "nbformat": 4,
 "nbformat_minor": 2
}
