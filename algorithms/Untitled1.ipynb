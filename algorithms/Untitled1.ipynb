{
 "cells": [
  {
   "cell_type": "code",
   "execution_count": null,
   "metadata": {},
   "outputs": [],
   "source": [
    "#from utilities import getLogger\n",
    "\n",
    "#logger = getLogger(__name__)\n",
    "\n",
    "import pandas as pd\n",
    "from datetime import datetime\n",
    "from collections import defaultdict\n",
    "from module.tools import (\n",
    "    generic_error_handling,\n",
    "    generic_output_handling,\n",
    "    MetricName,\n",
    "    is_valid_date,\n",
    "    is_valid_int,\n",
    "    is_valid_alert_level,\n",
    "    log_missing_column,\n",
    "    log_multi_metric_id,\n",
    ")"
   ]
  },
  {
   "cell_type": "code",
   "execution_count": null,
   "metadata": {},
   "outputs": [],
   "source": [
    "def HO_PRMD_DOIA001(filename):\n",
    "    this_metric = MetricName.HO_PRMD_DOIA001\n",
    "    error_log = {\"Column\": [], \"Row No.\": [], \"Description\": []}\n",
    "\n",
    "    df = pd.read_excel(filename, skiprows=[])\n",
    "    df = df.rename(columns=str.lower)\n",
    "    df = df.filter([\"metric id\", \"date due\", \"date reported\"])\n",
    "\n",
    "    has_no_missing_columns = True\n",
    "    try:\n",
    "        df[\"date due\"] = pd.to_datetime(\n",
    "            df[\"date due\"], errors=\"coerce\", format=\"%m/%d/%Y\"\n",
    "        )\n",
    "    except KeyError:\n",
    "        has_no_missing_columns = False\n",
    "        error_log = log_missing_column(error_log, \"date due\")\n",
    "\n",
    "    try:\n",
    "        df[\"date reported\"] = pd.to_datetime(\n",
    "            df[\"date reported\"], errors=\"coerce\", format=\"%m/%d/%Y\"\n",
    "        )\n",
    "    except KeyError:\n",
    "        has_no_missing_columns = False\n",
    "        error_log = log_missing_column(error_log, \"date reported\")\n",
    "\n",
    "    try:\n",
    "        df[\"metric id\"] = pd.to_numeric(\n",
    "            df[\"metric id\"], errors=\"coerce\", downcast=\"integer\"\n",
    "        )\n",
    "    except KeyError:\n",
    "        has_no_missing_columns = False\n",
    "        error_log = log_missing_column(error_log, \"metric id\")\n",
    "\n",
    "    logger.debug(df)\n",
    "\n",
    "    try:\n",
    "        num_of_metric_id = len(pd.unique(df[\"metric id\"]))\n",
    "        unique_metric_id = num_of_metric_id == 1\n",
    "        if unique_metric_id is False:\n",
    "            error_log = log_multi_metric_id(error_log, \"metric id\", num_of_metric_id)\n",
    "    except KeyError:\n",
    "        # No Metric ID column handled above\n",
    "        unique_metric_id = False\n",
    "\n",
    "    metric_data = defaultdict(list)\n",
    "\n",
    "    validate_columns = [\n",
    "        {\"name\": \"metric id\", \"function\": is_valid_int},\n",
    "        {\"name\": \"date due\", \"function\": is_valid_date},\n",
    "        {\"name\": \"date reported\", \"function\": is_valid_date},\n",
    "    ]\n",
    "\n",
    "    for ndx, data in df.iterrows():\n",
    "        has_error = False\n",
    "        for column in validate_columns:\n",
    "            if column[\"name\"] not in data:\n",
    "                has_error = True\n",
    "                continue\n",
    "\n",
    "            res = column[\"function\"](column[\"name\"], ndx, data)\n",
    "            if res[\"success\"] is False:\n",
    "                has_error = True\n",
    "                error_log[\"Column\"].append(column[\"name\"])\n",
    "                error_log[\"Row No.\"].append(ndx + 1)\n",
    "                error_log[\"Description\"].append(res[\"error\"])\n",
    "\n",
    "        if has_error is False and has_no_missing_columns and unique_metric_id:\n",
    "            metric_value = int(data[\"date reported\"] < data[\"date due\"])\n",
    "            metric_data[data[\"metric id\"]].append(metric_value)\n",
    "\n",
    "    if len(error_log[\"Column\"]):\n",
    "        generic_error_handling(this_metric, filename, error_log)\n",
    "        return {\"message\": \"Invalid file contents!\"}\n",
    "\n",
    "    data = {\"Metric\": [], \"Input Value\": [], \"Metric Date\": []}\n",
    "    for k, v in metric_data.items():\n",
    "        data[\"Metric\"].append(k)\n",
    "        data[\"Input Value\"].append(sum(v) / len(v) * 100)\n",
    "        data[\"Metric Date\"].append(datetime.now().strftime(\"%m/%d/%Y\"))\n",
    "\n",
    "    generic_output_handling(this_metric, filename, data)\n",
    "\n",
    "    \n",
    "    return data"
   ]
  },
  {
   "cell_type": "code",
   "execution_count": null,
   "metadata": {},
   "outputs": [],
   "source": [
    "individual notebooks for \n",
    "#upload file button and title box\n",
    "\n",
    "formula\n",
    "\n",
    "metric id checker\n",
    "choose columns #columns as buttons auto generate\n",
    "\n",
    "premade formula dropdown\n",
    "\n",
    "Generate output\n",
    "this metric\n",
    "filename\n",
    "data"
   ]
  },
  {
   "cell_type": "code",
   "execution_count": null,
   "metadata": {},
   "outputs": [],
   "source": []
  },
  {
   "cell_type": "code",
   "execution_count": null,
   "metadata": {},
   "outputs": [],
   "source": []
  },
  {
   "cell_type": "code",
   "execution_count": null,
   "metadata": {},
   "outputs": [],
   "source": []
  }
 ],
 "metadata": {
  "kernelspec": {
   "display_name": "Python 3",
   "language": "python",
   "name": "python3"
  },
  "language_info": {
   "codemirror_mode": {
    "name": "ipython",
    "version": 3
   },
   "file_extension": ".py",
   "mimetype": "text/x-python",
   "name": "python",
   "nbconvert_exporter": "python",
   "pygments_lexer": "ipython3",
   "version": "3.8.10"
  },
  "varInspector": {
   "cols": {
    "lenName": 16,
    "lenType": 16,
    "lenVar": 40
   },
   "kernels_config": {
    "python": {
     "delete_cmd_postfix": "",
     "delete_cmd_prefix": "del ",
     "library": "var_list.py",
     "varRefreshCmd": "print(var_dic_list())"
    },
    "r": {
     "delete_cmd_postfix": ") ",
     "delete_cmd_prefix": "rm(",
     "library": "var_list.r",
     "varRefreshCmd": "cat(var_dic_list()) "
    }
   },
   "types_to_exclude": [
    "module",
    "function",
    "builtin_function_or_method",
    "instance",
    "_Feature"
   ],
   "window_display": false
  }
 },
 "nbformat": 4,
 "nbformat_minor": 4
}
