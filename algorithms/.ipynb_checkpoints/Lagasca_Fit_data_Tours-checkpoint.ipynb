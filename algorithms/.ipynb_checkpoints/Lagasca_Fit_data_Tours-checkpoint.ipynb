{
 "cells": [
  {
   "cell_type": "code",
   "execution_count": 1,
   "metadata": {
    "colab": {},
    "colab_type": "code",
    "id": "bfNgPOjKiLa3"
   },
   "outputs": [],
   "source": [
    "import warnings\n",
    "warnings.simplefilter('ignore')"
   ]
  },
  {
   "cell_type": "code",
   "execution_count": 2,
   "metadata": {
    "colab": {},
    "colab_type": "code",
    "id": "pcjGGlTxiLa9",
    "scrolled": true
   },
   "outputs": [],
   "source": [
    "%matplotlib inline\n",
    "import numpy as np\n",
    "import pandas as pd\n",
    "import matplotlib.pyplot as plt\n",
    "import time"
   ]
  },
  {
   "cell_type": "code",
   "execution_count": 3,
   "metadata": {
    "colab": {
     "base_uri": "https://localhost:8080/",
     "height": 309
    },
    "colab_type": "code",
    "id": "XtsnfZ05iciM",
    "outputId": "4b3bf41b-3db5-4235-98cf-85c64eb92f60"
   },
   "outputs": [
    {
     "name": "stdout",
     "output_type": "stream",
     "text": [
      "\u001b[33mDEPRECATION: Python 2.7 will reach the end of its life on January 1st, 2020. Please upgrade your Python as Python 2.7 won't be maintained after that date. A future version of pip will drop support for Python 2.7. More details about Python 2 support in pip, can be found at https://pip.pypa.io/en/latest/development/release-process/#python-2-support\u001b[0m\n",
      "Requirement already satisfied: surprise in /usr/local/lib/python2.7/dist-packages (0.1)\n",
      "Requirement already satisfied: scikit-surprise in /usr/local/lib/python2.7/dist-packages (from surprise) (1.0.6)\n",
      "Requirement already satisfied: scipy>=1.0.0 in /usr/local/lib/python2.7/dist-packages (from scikit-surprise->surprise) (1.1.0)\n",
      "Requirement already satisfied: six>=1.10.0 in /home/dragan21/.local/lib/python2.7/site-packages (from scikit-surprise->surprise) (1.11.0)\n",
      "Requirement already satisfied: joblib>=0.11 in /usr/local/lib/python2.7/dist-packages (from scikit-surprise->surprise) (0.13.2)\n",
      "Requirement already satisfied: numpy>=1.11.2 in /home/dragan21/.local/lib/python2.7/site-packages (from scikit-surprise->surprise) (1.15.0)\n",
      "\u001b[33mWARNING: You are using pip version 19.3.1; however, version 20.0.2 is available.\n",
      "You should consider upgrading via the 'pip install --upgrade pip' command.\u001b[0m\n"
     ]
    }
   ],
   "source": [
    "!pip install surprise"
   ]
  },
  {
   "cell_type": "code",
   "execution_count": 4,
   "metadata": {
    "colab": {},
    "colab_type": "code",
    "id": "6sH3h8H6iLbF"
   },
   "outputs": [],
   "source": [
    "from surprise import (Reader, model_selection, NormalPredictor, CoClustering, Dataset, BaselineOnly, SVD, SVDpp, NMF, SlopeOne)"
   ]
  },
  {
   "cell_type": "code",
   "execution_count": 5,
   "metadata": {
    "colab": {
     "base_uri": "https://localhost:8080/",
     "height": 224
    },
    "colab_type": "code",
    "id": "SAtrEp8DifFF",
    "outputId": "492cedf3-5b3d-41fd-8784-8285c2df1559"
   },
   "outputs": [
    {
     "name": "stdout",
     "output_type": "stream",
     "text": [
      "\u001b[33mDEPRECATION: Python 2.7 will reach the end of its life on January 1st, 2020. Please upgrade your Python as Python 2.7 won't be maintained after that date. A future version of pip will drop support for Python 2.7. More details about Python 2 support in pip, can be found at https://pip.pypa.io/en/latest/development/release-process/#python-2-support\u001b[0m\n",
      "Requirement already satisfied: memory_profiler in /home/dragan21/.local/lib/python2.7/site-packages (0.55.0)\n",
      "Requirement already satisfied: psutil in /usr/lib/python2.7/dist-packages (from memory_profiler) (5.4.2)\n",
      "\u001b[33mWARNING: You are using pip version 19.3.1; however, version 20.0.2 is available.\n",
      "You should consider upgrading via the 'pip install --upgrade pip' command.\u001b[0m\n"
     ]
    }
   ],
   "source": [
    "!pip install memory_profiler"
   ]
  },
  {
   "cell_type": "code",
   "execution_count": 6,
   "metadata": {
    "colab": {},
    "colab_type": "code",
    "id": "z1juFBEPiLbJ"
   },
   "outputs": [],
   "source": [
    "import memory_profiler"
   ]
  },
  {
   "cell_type": "code",
   "execution_count": 7,
   "metadata": {
    "colab": {},
    "colab_type": "code",
    "id": "qblRRHAwiLbO"
   },
   "outputs": [],
   "source": [
    "%load_ext memory_profiler\n",
    "#%reload_ext line_profiler"
   ]
  },
  {
   "cell_type": "code",
   "execution_count": 48,
   "metadata": {
    "colab": {
     "base_uri": "https://localhost:8080/",
     "height": 204
    },
    "colab_type": "code",
    "id": "WkrAtvK_iLbd",
    "outputId": "e055b447-4fc4-4667-edd3-a24511d4e8b4"
   },
   "outputs": [
    {
     "data": {
      "text/html": [
       "<div>\n",
       "<style scoped>\n",
       "    .dataframe tbody tr th:only-of-type {\n",
       "        vertical-align: middle;\n",
       "    }\n",
       "\n",
       "    .dataframe tbody tr th {\n",
       "        vertical-align: top;\n",
       "    }\n",
       "\n",
       "    .dataframe thead th {\n",
       "        text-align: right;\n",
       "    }\n",
       "</style>\n",
       "<table border=\"1\" class=\"dataframe\">\n",
       "  <thead>\n",
       "    <tr style=\"text-align: right;\">\n",
       "      <th></th>\n",
       "      <th>user_id</th>\n",
       "      <th>username</th>\n",
       "      <th>name</th>\n",
       "      <th>ratings</th>\n",
       "    </tr>\n",
       "  </thead>\n",
       "  <tbody>\n",
       "    <tr>\n",
       "      <th>0</th>\n",
       "      <td>1</td>\n",
       "      <td>Erra Dacuba</td>\n",
       "      <td>1730 Jesuit House</td>\n",
       "      <td>4</td>\n",
       "    </tr>\n",
       "    <tr>\n",
       "      <th>1</th>\n",
       "      <td>1</td>\n",
       "      <td>Erra Dacuba</td>\n",
       "      <td>Ace Water Spa</td>\n",
       "      <td>5</td>\n",
       "    </tr>\n",
       "    <tr>\n",
       "      <th>2</th>\n",
       "      <td>1</td>\n",
       "      <td>Erra Dacuba</td>\n",
       "      <td>Activefun Bonifacio High Street</td>\n",
       "      <td>5</td>\n",
       "    </tr>\n",
       "    <tr>\n",
       "      <th>3</th>\n",
       "      <td>1</td>\n",
       "      <td>Erra Dacuba</td>\n",
       "      <td>Aduana</td>\n",
       "      <td>5</td>\n",
       "    </tr>\n",
       "    <tr>\n",
       "      <th>4</th>\n",
       "      <td>1</td>\n",
       "      <td>Erra Dacuba</td>\n",
       "      <td>Agusan River</td>\n",
       "      <td>4</td>\n",
       "    </tr>\n",
       "  </tbody>\n",
       "</table>\n",
       "</div>"
      ],
      "text/plain": [
       "   user_id     username                             name  ratings\n",
       "0        1  Erra Dacuba                1730 Jesuit House        4\n",
       "1        1  Erra Dacuba                    Ace Water Spa        5\n",
       "2        1  Erra Dacuba  Activefun Bonifacio High Street        5\n",
       "3        1  Erra Dacuba                           Aduana        5\n",
       "4        1  Erra Dacuba                     Agusan River        4"
      ]
     },
     "execution_count": 48,
     "metadata": {},
     "output_type": "execute_result"
    }
   ],
   "source": [
    "reader = Reader()\n",
    "df = pd.read_excel('/home/dragan21/Documents/Lakbay.ph/final datasets/final/tours_and_attractions_review.xlsx')\n",
    "df = df.dropna()\n",
    "df.head()"
   ]
  },
  {
   "cell_type": "code",
   "execution_count": 49,
   "metadata": {
    "colab": {},
    "colab_type": "code",
    "id": "o8BsXKt5iLbh"
   },
   "outputs": [],
   "source": [
    "data = Dataset.load_from_df(df[['user_id','name','ratings']], reader)"
   ]
  },
  {
   "cell_type": "code",
   "execution_count": 50,
   "metadata": {
    "colab": {},
    "colab_type": "code",
    "id": "jwO7zCWJiLbl"
   },
   "outputs": [],
   "source": [
    "trainset, testset = model_selection.train_test_split(data, test_size=.25)"
   ]
  },
  {
   "cell_type": "code",
   "execution_count": 51,
   "metadata": {
    "colab": {},
    "colab_type": "code",
    "id": "I0gIrUqViLbn"
   },
   "outputs": [],
   "source": [
    "trainset = data.build_full_trainset()"
   ]
  },
  {
   "cell_type": "code",
   "execution_count": 52,
   "metadata": {
    "colab": {},
    "colab_type": "code",
    "id": "R83FbK-NiLbq"
   },
   "outputs": [],
   "source": [
    "def fit_model_with_memory_and_time(model):\n",
    "    %memit\n",
    "    start_time = time.time()\n",
    "    model.fit(trainset)\n",
    "    end_time = time.time()\n",
    "    print(\"Fitting Time: {} seconds.\".format(end_time - start_time))\n",
    "    return model"
   ]
  },
  {
   "cell_type": "code",
   "execution_count": 53,
   "metadata": {
    "colab": {},
    "colab_type": "code",
    "id": "dchU_FmSiLbu"
   },
   "outputs": [],
   "source": [
    "def get_inference_time(model):\n",
    "    start_time = time.time()\n",
    "    model.predict(1, 306, 3)\n",
    "    end_time = time.time()\n",
    "    print(\"Inference Time: {} seconds.\".format(end_time - start_time))"
   ]
  },
  {
   "cell_type": "markdown",
   "metadata": {
    "colab_type": "text",
    "id": "LilFXbTDiLbw"
   },
   "source": [
    "<h2>Baseline ALS model</h2>"
   ]
  },
  {
   "cell_type": "code",
   "execution_count": 12,
   "metadata": {
    "colab": {},
    "colab_type": "code",
    "id": "fJkBwPkGiLbx"
   },
   "outputs": [],
   "source": [
    "bsl_options = {'method': 'als'}\n",
    "model_Baseline_ALS = BaselineOnly(bsl_options = bsl_options)"
   ]
  },
  {
   "cell_type": "code",
   "execution_count": 13,
   "metadata": {
    "colab": {},
    "colab_type": "code",
    "id": "n3vbaD-tiLb2",
    "outputId": "17371223-edee-4214-a69b-48bc17f48fa9"
   },
   "outputs": [
    {
     "name": "stdout",
     "output_type": "stream",
     "text": [
      "peak memory: 110.45 MiB, increment: 0.81 MiB\n",
      "Estimating biases using als...\n",
      "Fitting Time: 0.00339508056640625 seconds.\n"
     ]
    },
    {
     "data": {
      "text/plain": [
       "<surprise.prediction_algorithms.baseline_only.BaselineOnly at 0x7f928bab0be0>"
      ]
     },
     "execution_count": 13,
     "metadata": {},
     "output_type": "execute_result"
    }
   ],
   "source": [
    "fit_model_with_memory_and_time(model_Baseline_ALS)"
   ]
  },
  {
   "cell_type": "code",
   "execution_count": 14,
   "metadata": {
    "colab": {},
    "colab_type": "code",
    "id": "mnhQvAIpiLb9",
    "outputId": "ffa5d840-8874-4b72-ceb7-528bf3990031"
   },
   "outputs": [
    {
     "name": "stdout",
     "output_type": "stream",
     "text": [
      "Inference Time: 7.987022399902344e-05 seconds.\n"
     ]
    }
   ],
   "source": [
    "get_inference_time(model_Baseline_ALS)"
   ]
  },
  {
   "cell_type": "markdown",
   "metadata": {
    "colab_type": "text",
    "id": "cFnBF6sBiLcA"
   },
   "source": [
    "<h2>Baseline SGD model</h2>"
   ]
  },
  {
   "cell_type": "code",
   "execution_count": 15,
   "metadata": {
    "colab": {},
    "colab_type": "code",
    "id": "Ne4yMxlWiLcB"
   },
   "outputs": [],
   "source": [
    "bsl_options = {'method': 'sgd'}\n",
    "model_Baseline_SGD = BaselineOnly(bsl_options = bsl_options)"
   ]
  },
  {
   "cell_type": "code",
   "execution_count": 16,
   "metadata": {
    "colab": {},
    "colab_type": "code",
    "id": "ADya7YdziLcJ",
    "outputId": "b04f852f-cf65-467f-ca99-dbaf49aa6d43"
   },
   "outputs": [
    {
     "name": "stdout",
     "output_type": "stream",
     "text": [
      "peak memory: 110.62 MiB, increment: 0.02 MiB\n",
      "Estimating biases using sgd...\n",
      "Fitting Time: 0.004076480865478516 seconds.\n"
     ]
    },
    {
     "data": {
      "text/plain": [
       "<surprise.prediction_algorithms.baseline_only.BaselineOnly at 0x7f928bab0470>"
      ]
     },
     "execution_count": 16,
     "metadata": {},
     "output_type": "execute_result"
    }
   ],
   "source": [
    "fit_model_with_memory_and_time(model_Baseline_SGD)"
   ]
  },
  {
   "cell_type": "code",
   "execution_count": 17,
   "metadata": {
    "colab": {},
    "colab_type": "code",
    "id": "LgohUzCLiLcQ",
    "outputId": "7f441bab-6196-4641-b062-17a95b435168"
   },
   "outputs": [
    {
     "name": "stdout",
     "output_type": "stream",
     "text": [
      "Inference Time: 8.153915405273438e-05 seconds.\n"
     ]
    }
   ],
   "source": [
    "get_inference_time(model_Baseline_SGD)"
   ]
  },
  {
   "cell_type": "markdown",
   "metadata": {
    "colab_type": "text",
    "id": "jY9L9ThUiLcT"
   },
   "source": [
    "<h2> NMF model</h2>"
   ]
  },
  {
   "cell_type": "code",
   "execution_count": 18,
   "metadata": {
    "colab": {},
    "colab_type": "code",
    "id": "H5Dr00FXiLcV",
    "outputId": "2567e10b-6400-4d43-9004-fee3ecd6e82f"
   },
   "outputs": [
    {
     "name": "stdout",
     "output_type": "stream",
     "text": [
      "peak memory: 110.70 MiB, increment: 0.01 MiB\n",
      "Fitting Time: 0.14730405807495117 seconds.\n"
     ]
    },
    {
     "data": {
      "text/plain": [
       "<surprise.prediction_algorithms.matrix_factorization.NMF at 0x7f928bab0b00>"
      ]
     },
     "execution_count": 18,
     "metadata": {},
     "output_type": "execute_result"
    }
   ],
   "source": [
    "model_NMF = NMF()\n",
    "fit_model_with_memory_and_time(model_NMF)"
   ]
  },
  {
   "cell_type": "code",
   "execution_count": 19,
   "metadata": {
    "colab": {},
    "colab_type": "code",
    "id": "TpY-BJQ_iLcf",
    "outputId": "50dd4a51-328b-4c86-da0f-91a2278d0191"
   },
   "outputs": [
    {
     "name": "stdout",
     "output_type": "stream",
     "text": [
      "Inference Time: 9.822845458984375e-05 seconds.\n"
     ]
    }
   ],
   "source": [
    "get_inference_time(model_NMF)"
   ]
  },
  {
   "cell_type": "markdown",
   "metadata": {
    "colab_type": "text",
    "id": "NQ-ccjxbiLcj"
   },
   "source": [
    "<h2> SVD model</h2>"
   ]
  },
  {
   "cell_type": "code",
   "execution_count": 20,
   "metadata": {
    "colab": {},
    "colab_type": "code",
    "id": "mO6UA_JriLck",
    "outputId": "a021b9cb-bf6f-41af-ae29-ece6ffc470e1"
   },
   "outputs": [
    {
     "name": "stdout",
     "output_type": "stream",
     "text": [
      "peak memory: 111.06 MiB, increment: 0.00 MiB\n",
      "Fitting Time: 0.10118293762207031 seconds.\n"
     ]
    },
    {
     "data": {
      "text/plain": [
       "<surprise.prediction_algorithms.matrix_factorization.SVD at 0x7f928bab0ba8>"
      ]
     },
     "execution_count": 20,
     "metadata": {},
     "output_type": "execute_result"
    }
   ],
   "source": [
    "model_SVD = SVD()\n",
    "fit_model_with_memory_and_time(model_SVD)"
   ]
  },
  {
   "cell_type": "code",
   "execution_count": 21,
   "metadata": {
    "colab": {},
    "colab_type": "code",
    "id": "ZbzXrAhAiLcq",
    "outputId": "08e391a3-f98c-4731-ba54-3c944b2f6ac1"
   },
   "outputs": [
    {
     "name": "stdout",
     "output_type": "stream",
     "text": [
      "Inference Time: 9.322166442871094e-05 seconds.\n"
     ]
    }
   ],
   "source": [
    "get_inference_time(model_SVD)"
   ]
  },
  {
   "cell_type": "markdown",
   "metadata": {
    "colab_type": "text",
    "id": "YMjSV4FUiLcx"
   },
   "source": [
    "<h2> SVDpp model</h2>"
   ]
  },
  {
   "cell_type": "code",
   "execution_count": 22,
   "metadata": {
    "colab": {},
    "colab_type": "code",
    "id": "Oc6FARmZiLcy",
    "outputId": "f6390f73-2d27-4b64-f933-4c0adab7c3e9"
   },
   "outputs": [
    {
     "name": "stdout",
     "output_type": "stream",
     "text": [
      "peak memory: 111.33 MiB, increment: 0.00 MiB\n",
      "Fitting Time: 0.38895082473754883 seconds.\n"
     ]
    },
    {
     "data": {
      "text/plain": [
       "<surprise.prediction_algorithms.matrix_factorization.SVDpp at 0x7f928bab0c50>"
      ]
     },
     "execution_count": 22,
     "metadata": {},
     "output_type": "execute_result"
    }
   ],
   "source": [
    "model_SVDpp = SVDpp()\n",
    "fit_model_with_memory_and_time(model_SVDpp)"
   ]
  },
  {
   "cell_type": "code",
   "execution_count": 23,
   "metadata": {
    "colab": {},
    "colab_type": "code",
    "id": "njjosoLFiLc0",
    "outputId": "341a657a-1c88-471e-f9fc-742cff6da173"
   },
   "outputs": [
    {
     "name": "stdout",
     "output_type": "stream",
     "text": [
      "Inference Time: 8.821487426757812e-05 seconds.\n"
     ]
    }
   ],
   "source": [
    "get_inference_time(model_SVDpp)"
   ]
  },
  {
   "cell_type": "code",
   "execution_count": 24,
   "metadata": {},
   "outputs": [
    {
     "data": {
      "text/plain": [
       "<surprise.prediction_algorithms.matrix_factorization.SVDpp at 0x7f928ba9a400>"
      ]
     },
     "execution_count": 24,
     "metadata": {},
     "output_type": "execute_result"
    }
   ],
   "source": [
    "#!cd \"/content/drive/My Drive/SP PD/ATTRACTIONS/\"\n",
    "import pickle\n",
    "file = open(b\"SVDpp_Model.sav\",\"wb\")\n",
    "pickle.dump(model_SVDpp,file)\n",
    "file = open(b\"SVDpp_Model.sav\",\"rb\")\n",
    "Model_SVDpp = pickle.load(file)\n",
    "Model_SVDpp"
   ]
  },
  {
   "cell_type": "markdown",
   "metadata": {
    "colab_type": "text",
    "id": "bTRKgWWRiLc7"
   },
   "source": [
    "<h2> SlopeOne model </h2>"
   ]
  },
  {
   "cell_type": "code",
   "execution_count": 54,
   "metadata": {
    "colab": {},
    "colab_type": "code",
    "id": "gvD-jWjfiLc8",
    "outputId": "f9e5b9ce-7192-4f08-c093-29a3d9aca333"
   },
   "outputs": [
    {
     "name": "stdout",
     "output_type": "stream",
     "text": [
      "peak memory: 102.68 MiB, increment: 0.04 MiB\n",
      "Fitting Time: 0.015102863311767578 seconds.\n"
     ]
    },
    {
     "data": {
      "text/plain": [
       "<surprise.prediction_algorithms.slope_one.SlopeOne at 0x7fe55ae1afd0>"
      ]
     },
     "execution_count": 54,
     "metadata": {},
     "output_type": "execute_result"
    }
   ],
   "source": [
    "model_SlopeOne = SlopeOne()\n",
    "fit_model_with_memory_and_time(model_SlopeOne)"
   ]
  },
  {
   "cell_type": "code",
   "execution_count": 55,
   "metadata": {
    "colab": {},
    "colab_type": "code",
    "id": "85p4_OZpiLdB",
    "outputId": "07565ac2-ac9d-4dcd-824c-e1034343e4a0"
   },
   "outputs": [
    {
     "name": "stdout",
     "output_type": "stream",
     "text": [
      "Inference Time: 0.0007030963897705078 seconds.\n"
     ]
    }
   ],
   "source": [
    "get_inference_time(model_SlopeOne)"
   ]
  },
  {
   "cell_type": "code",
   "execution_count": 56,
   "metadata": {},
   "outputs": [],
   "source": [
    "import pickle\n",
    "file = open(b\"SlopeOne_Model.sav\",\"wb\")\n",
    "pickle.dump(model_SlopeOne,file)"
   ]
  },
  {
   "cell_type": "code",
   "execution_count": 57,
   "metadata": {},
   "outputs": [
    {
     "data": {
      "text/plain": [
       "<surprise.prediction_algorithms.slope_one.SlopeOne at 0x7fe55aac1588>"
      ]
     },
     "execution_count": 57,
     "metadata": {},
     "output_type": "execute_result"
    }
   ],
   "source": [
    "file = open(b\"SlopeOne_Model.sav\",\"rb\")\n",
    "Model_SlopeOne = pickle.load(file)\n",
    "Model_SlopeOne"
   ]
  },
  {
   "cell_type": "markdown",
   "metadata": {
    "colab_type": "text",
    "id": "kSSWMc5wiLdD"
   },
   "source": [
    "<h2> CoClustering model </h2>"
   ]
  },
  {
   "cell_type": "code",
   "execution_count": 29,
   "metadata": {
    "colab": {
     "base_uri": "https://localhost:8080/",
     "height": 68
    },
    "colab_type": "code",
    "id": "vG2FX7OwiLdE",
    "outputId": "f45b1ac8-c7b6-4046-bba1-c70ee3fbaba0"
   },
   "outputs": [
    {
     "name": "stdout",
     "output_type": "stream",
     "text": [
      "peak memory: 119.49 MiB, increment: 0.00 MiB\n",
      "Fitting Time: 0.09067559242248535 seconds.\n"
     ]
    },
    {
     "data": {
      "text/plain": [
       "<surprise.prediction_algorithms.co_clustering.CoClustering at 0x7f92c8167ac8>"
      ]
     },
     "execution_count": 29,
     "metadata": {},
     "output_type": "execute_result"
    }
   ],
   "source": [
    "model_CoClustering = CoClustering()\n",
    "fit_model_with_memory_and_time(model_CoClustering)"
   ]
  },
  {
   "cell_type": "code",
   "execution_count": 30,
   "metadata": {
    "colab": {
     "base_uri": "https://localhost:8080/",
     "height": 34
    },
    "colab_type": "code",
    "id": "R--h-AHHiLdL",
    "outputId": "1c72db3a-352e-4036-c075-35d974ae7f19"
   },
   "outputs": [
    {
     "name": "stdout",
     "output_type": "stream",
     "text": [
      "Inference Time: 9.822845458984375e-05 seconds.\n"
     ]
    }
   ],
   "source": [
    "get_inference_time(model_CoClustering)"
   ]
  },
  {
   "cell_type": "code",
   "execution_count": 31,
   "metadata": {
    "colab": {},
    "colab_type": "code",
    "id": "bnY1sb1_9Bwm"
   },
   "outputs": [],
   "source": [
    "import pickle\n",
    "file = open(b\"Model.sav\",\"wb\")\n",
    "pickle.dump(model_CoClustering,file)"
   ]
  },
  {
   "cell_type": "code",
   "execution_count": 32,
   "metadata": {},
   "outputs": [
    {
     "data": {
      "text/plain": [
       "<surprise.prediction_algorithms.co_clustering.CoClustering at 0x7f92ad170080>"
      ]
     },
     "execution_count": 32,
     "metadata": {},
     "output_type": "execute_result"
    }
   ],
   "source": [
    "file = open(b\"Model.sav\",\"rb\")\n",
    "model_CoClustering = pickle.load(file)\n",
    "model_CoClustering"
   ]
  },
  {
   "cell_type": "code",
   "execution_count": 33,
   "metadata": {
    "colab": {
     "base_uri": "https://localhost:8080/",
     "height": 34
    },
    "colab_type": "code",
    "id": "5PxliY6YAEwW",
    "outputId": "3e09ac6e-6b48-4cea-8612-afcc43b30286"
   },
   "outputs": [
    {
     "data": {
      "text/plain": [
       "['SlopeOne_Model.sav',\n",
       " 'Restaurants.jpg',\n",
       " '.ipynb_checkpoints',\n",
       " 'Lagasca_Fit_data_Hotels.ipynb',\n",
       " 'Tours.jpg',\n",
       " 'Model.sav',\n",
       " 'CoClustering_Model.sav',\n",
       " 'Fit comparison hotels.csv',\n",
       " 'Fit comparison tours.csv',\n",
       " 'Hotels.jpg',\n",
       " 'Lagasca_Fit_data_Tours.ipynb',\n",
       " 'Visualizations.ipynb',\n",
       " 'Fit comparison restaurants.csv',\n",
       " 'Lagasca_Fit_data_Restaurants.ipynb',\n",
       " 'SVD_Model.sav',\n",
       " 'SVDpp_Model.sav']"
      ]
     },
     "execution_count": 33,
     "metadata": {},
     "output_type": "execute_result"
    }
   ],
   "source": [
    "import os\n",
    "os.listdir()"
   ]
  },
  {
   "cell_type": "markdown",
   "metadata": {
    "colab_type": "text",
    "id": "1TgY30Xujfk-"
   },
   "source": [
    "<h2> NormalPredictor model</h2>"
   ]
  },
  {
   "cell_type": "code",
   "execution_count": 34,
   "metadata": {
    "colab": {
     "base_uri": "https://localhost:8080/",
     "height": 68
    },
    "colab_type": "code",
    "id": "_d1AWtK-jELa",
    "outputId": "6846fa17-9903-4677-a4c7-5d89f0c716f0"
   },
   "outputs": [
    {
     "name": "stdout",
     "output_type": "stream",
     "text": [
      "peak memory: 119.99 MiB, increment: 0.00 MiB\n",
      "Fitting Time: 0.001912832260131836 seconds.\n"
     ]
    },
    {
     "data": {
      "text/plain": [
       "<surprise.prediction_algorithms.random_pred.NormalPredictor at 0x7f928ba9a0b8>"
      ]
     },
     "execution_count": 34,
     "metadata": {},
     "output_type": "execute_result"
    }
   ],
   "source": [
    "model_NormalPredictor = NormalPredictor()\n",
    "fit_model_with_memory_and_time(model_NormalPredictor)"
   ]
  },
  {
   "cell_type": "code",
   "execution_count": 35,
   "metadata": {
    "colab": {
     "base_uri": "https://localhost:8080/",
     "height": 34
    },
    "colab_type": "code",
    "id": "_2NoGdaXjESO",
    "outputId": "6dbabd48-f415-4403-d0e6-48a9cac56fe5"
   },
   "outputs": [
    {
     "name": "stdout",
     "output_type": "stream",
     "text": [
      "Inference Time: 0.00027942657470703125 seconds.\n"
     ]
    }
   ],
   "source": [
    "get_inference_time(model_NormalPredictor)"
   ]
  },
  {
   "cell_type": "code",
   "execution_count": null,
   "metadata": {},
   "outputs": [],
   "source": []
  }
 ],
 "metadata": {
  "accelerator": "GPU",
  "colab": {
   "collapsed_sections": [],
   "name": "Lagasca - Fit data - Attractions.ipynb",
   "provenance": []
  },
  "kernelspec": {
   "display_name": "Python 2",
   "language": "python",
   "name": "python2"
  },
  "language_info": {
   "codemirror_mode": {
    "name": "ipython",
    "version": 3
   },
   "file_extension": ".py",
   "mimetype": "text/x-python",
   "name": "python",
   "nbconvert_exporter": "python",
   "pygments_lexer": "ipython3",
   "version": "3.6.9"
  }
 },
 "nbformat": 4,
 "nbformat_minor": 1
}
