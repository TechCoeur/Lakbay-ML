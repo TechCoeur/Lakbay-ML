{
 "cells": [
  {
   "cell_type": "code",
   "execution_count": 1,
   "metadata": {
    "deletable": false,
    "editable": false,
    "hide_input": false
   },
   "outputs": [],
   "source": [
    "import ipywidgets as w\n",
    "from IPython.display import display\n",
    "from IPython.display import clear_output"
   ]
  },
  {
   "cell_type": "code",
   "execution_count": 2,
   "metadata": {
    "hide_input": false
   },
   "outputs": [],
   "source": [
    "import warnings\n",
    "warnings.simplefilter('ignore')"
   ]
  },
  {
   "cell_type": "code",
   "execution_count": 3,
   "metadata": {
    "hide_input": false
   },
   "outputs": [],
   "source": [
    "def textprint(value):\n",
    "    print(\"Test Click %s.\" %value)"
   ]
  },
  {
   "cell_type": "code",
   "execution_count": 4,
   "metadata": {
    "hide_input": false
   },
   "outputs": [],
   "source": [
    "toggle = w.ToggleButton(\n",
    "    value=False,\n",
    "    description='Click me',\n",
    "    disabled=False,\n",
    "    button_style='success',\n",
    "    tooltip='Description here',\n",
    "    icon='check'\n",
    ")\n",
    "\n",
    "out = w.Output(layout={'border': '1px solid black'})"
   ]
  },
  {
   "cell_type": "code",
   "execution_count": 5,
   "metadata": {
    "hide_input": false
   },
   "outputs": [
    {
     "data": {
      "application/vnd.jupyter.widget-view+json": {
       "model_id": "38faffa81c66427fac887c8405f04ba4",
       "version_major": 2,
       "version_minor": 0
      },
      "text/plain": [
       "ToggleButton(value=False, button_style='success', description='Click me', icon='check', tooltip='Description h…"
      ]
     },
     "metadata": {},
     "output_type": "display_data"
    },
    {
     "data": {
      "application/vnd.jupyter.widget-view+json": {
       "model_id": "9715de232fc848b4b7a1d8498a692d10",
       "version_major": 2,
       "version_minor": 0
      },
      "text/plain": [
       "Output(layout=Layout(border='1px solid black'))"
      ]
     },
     "metadata": {},
     "output_type": "display_data"
    }
   ],
   "source": [
    "def on_click(change):\n",
    "    with out:\n",
    "        if change['new']:\n",
    "            out.clear_output()\n",
    "            textprint(toggle.value)\n",
    "        else:\n",
    "            out.clear_output()\n",
    "            textprint(toggle.value)\n",
    "\n",
    "toggle.observe(on_click, 'value')\n",
    "display(toggle)\n",
    "display(out)"
   ]
  },
  {
   "cell_type": "code",
   "execution_count": 6,
   "metadata": {
    "hide_input": false
   },
   "outputs": [],
   "source": [
    "%matplotlib inline\n",
    "import pandas as pd\n",
    "import seaborn as sns\n",
    "import functools\n",
    "import ipywidgets as widgets"
   ]
  },
  {
   "cell_type": "code",
   "execution_count": 7,
   "metadata": {
    "hide_input": false
   },
   "outputs": [],
   "source": [
    "iris = sns.load_dataset('iris')"
   ]
  },
  {
   "cell_type": "code",
   "execution_count": 8,
   "metadata": {
    "hide_input": true
   },
   "outputs": [],
   "source": [
    "def draw(\n",
    "    attribute,\n",
    "    plot,\n",
    "):\n",
    "    args = {\n",
    "        'data': iris,\n",
    "        'y': attribute,\n",
    "        'x': 'species'\n",
    "    }\n",
    "    if plot == 'Boxplot': sns.boxplot(**args)\n",
    "    elif plot == 'Pointplot': sns.pointplot(**args)\n",
    "    elif plot == 'Stripplot': sns.stripplot(**args)"
   ]
  },
  {
   "cell_type": "code",
   "execution_count": 9,
   "metadata": {
    "hide_input": true
   },
   "outputs": [
    {
     "data": {
      "application/vnd.jupyter.widget-view+json": {
       "model_id": "6528fbed435d472f834f4586c6d5d97c",
       "version_major": 2,
       "version_minor": 0
      },
      "text/plain": [
       "interactive(children=(Dropdown(description='Attribute', options=('sepal_length', 'sepal_width', 'petal_length'…"
      ]
     },
     "metadata": {},
     "output_type": "display_data"
    },
    {
     "data": {
      "text/plain": [
       "<function __main__.draw(attribute, plot)>"
      ]
     },
     "execution_count": 9,
     "metadata": {},
     "output_type": "execute_result"
    },
    {
     "data": {
      "image/png": "[encoded data removed]",
      "text/plain": [
       "<Figure size 432x288 with 1 Axes>"
      ]
     },
     "metadata": {
      "needs_background": "light"
     },
     "output_type": "display_data"
    }
   ],
   "source": [
    "widgets.interact(\n",
    "    draw,\n",
    "    attribute=widgets.Dropdown(\n",
    "        options=[\n",
    "            col for col in\n",
    "            iris.columns if col != 'species'\n",
    "        ],\n",
    "        description='Attribute',\n",
    "    ),\n",
    "    plot=widgets.ToggleButtons(\n",
    "        options=['Boxplot', 'Pointplot', 'Stripplot'],\n",
    "        description='Plot',\n",
    "    ),\n",
    ")"
   ]
  }
 ],
 "metadata": {
  "kernelspec": {
   "display_name": "Python 3",
   "language": "python",
   "name": "python3"
  },
  "language_info": {
   "codemirror_mode": {
    "name": "ipython",
    "version": 3
   },
   "file_extension": ".py",
   "mimetype": "text/x-python",
   "name": "python",
   "nbconvert_exporter": "python",
   "pygments_lexer": "ipython3",
   "version": "3.8.10"
  },
  "varInspector": {
   "cols": {
    "lenName": 16,
    "lenType": 16,
    "lenVar": 40
   },
   "kernels_config": {
    "python": {
     "delete_cmd_postfix": "",
     "delete_cmd_prefix": "del ",
     "library": "var_list.py",
     "varRefreshCmd": "print(var_dic_list())"
    },
    "r": {
     "delete_cmd_postfix": ") ",
     "delete_cmd_prefix": "rm(",
     "library": "var_list.r",
     "varRefreshCmd": "cat(var_dic_list()) "
    }
   },
   "types_to_exclude": [
    "module",
    "function",
    "builtin_function_or_method",
    "instance",
    "_Feature"
   ],
   "window_display": false
  },
  "widgets": {
   "application/vnd.jupyter.widget-state+json": {
    "state": {
     "0218cae0bfac41ee80123e4f48189266": {
      "model_module": "@jupyter-widgets/controls",
      "model_module_version": "1.5.0",
      "model_name": "ToggleButtonModel",
      "state": {
       "button_style": "success",
       "description": "Click me",
       "icon": "check",
       "layout": "IPY_MODEL_6e4918dbe06c47c9b25c1ab78d04d8b5",
       "style": "IPY_MODEL_4bc930baf2d1405eaf3f8fb23b7409b6",
       "tooltip": "Description here"
      }
     },
     "0357f8788f2e44029c3713e196bd8d47": {
      "model_module": "@jupyter-widgets/base",
      "model_module_version": "1.2.0",
      "model_name": "LayoutModel",
      "state": {}
     },
     "062487c1a9ac4f8bb6cb8aea7aee3aae": {
      "model_module": "@jupyter-widgets/base",
      "model_module_version": "1.2.0",
      "model_name": "LayoutModel",
      "state": {}
     },
     "097138a228174917a6123399238fbb47": {
      "model_module": "@jupyter-widgets/controls",
      "model_module_version": "1.5.0",
      "model_name": "ToggleButtonsModel",
      "state": {
       "_options_labels": [
        "Boxplot",
        "Pointplot",
        "Stripplot"
       ],
       "button_style": "",
       "description": "Plot",
       "icons": [],
       "index": 0,
       "layout": "IPY_MODEL_cae720892f57463f8a7c781fda0f079f",
       "style": "IPY_MODEL_260b7f30206a4083b328fb61abacac0b",
       "tooltips": []
      }
     },
     "09d99b325712498baf587a9e5ba1df81": {
      "model_module": "@jupyter-widgets/controls",
      "model_module_version": "1.5.0",
      "model_name": "ToggleButtonsStyleModel",
      "state": {
       "button_width": "",
       "description_width": ""
      }
     },
     "0afbf1c566ed404f9352e5a8f1372805": {
      "model_module": "@jupyter-widgets/base",
      "model_module_version": "1.2.0",
      "model_name": "LayoutModel",
      "state": {}
     },
     "0c03e8550de94f92a5c4a0b94ec506b7": {
      "model_module": "@jupyter-widgets/controls",
      "model_module_version": "1.5.0",
      "model_name": "DescriptionStyleModel",
      "state": {
       "description_width": ""
      }
     },
     "0d25dea6d7644ee8a417632bc48c186f": {
      "model_module": "@jupyter-widgets/controls",
      "model_module_version": "1.5.0",
      "model_name": "VBoxModel",
      "state": {
       "_dom_classes": [
        "widget-interact"
       ],
       "children": [
        "IPY_MODEL_be47ad807a294cb9b6ea5e655b732a55",
        "IPY_MODEL_acb456b605734ab3969347dacd2fdd40",
        "IPY_MODEL_5fd2492a5eb24cf69e30980a06d8bf0a"
       ],
       "layout": "IPY_MODEL_941ea97d01704690bb0bb212a788b37d"
      }
     },
     "0e2adc0d4e924e539453a397e897401b": {
      "model_module": "@jupyter-widgets/output",
      "model_module_version": "1.0.0",
      "model_name": "OutputModel",
      "state": {
       "layout": "IPY_MODEL_f0ab6f9f4bf14c9a81d4f1fe99e782a4"
      }
     },
     "0e923d9eb19e41d7976de712cbc5dc66": {
      "model_module": "@jupyter-widgets/base",
      "model_module_version": "1.2.0",
      "model_name": "LayoutModel",
      "state": {}
     },
     "10b699fcd831426799728da41f4a6de1": {
      "model_module": "@jupyter-widgets/controls",
      "model_module_version": "1.5.0",
      "model_name": "DropdownModel",
      "state": {
       "_options_labels": [
        "sepal_length",
        "sepal_width",
        "petal_length",
        "petal_width"
       ],
       "description": "Attribute",
       "index": 0,
       "layout": "IPY_MODEL_765c621d263e47ca9df64ea3afb2cdd5",
       "style": "IPY_MODEL_a889380a8181435d98926fd10513dc1a"
      }
     },
     "10fdf41fea084a268c08220d1bb9bca8": {
      "model_module": "@jupyter-widgets/controls",
      "model_module_version": "1.5.0",
      "model_name": "ToggleButtonsModel",
      "state": {
       "_options_labels": [
        "Boxplot",
        "Pointplot",
        "Stripplot"
       ],
       "button_style": "",
       "description": "Plot",
       "icons": [],
       "index": 0,
       "layout": "IPY_MODEL_966c98c7d5094db0b4ee9cbc9bf4ba9f",
       "style": "IPY_MODEL_5a867eb7fd6544488e3291dfc6fa6bb8",
       "tooltips": []
      }
     },
     "11b87d569f354e61a55d3762d9bb8c60": {
      "model_module": "@jupyter-widgets/controls",
      "model_module_version": "1.5.0",
      "model_name": "DescriptionStyleModel",
      "state": {
       "description_width": ""
      }
     },
     "1318dbe25aa24f929204b9800122bca5": {
      "model_module": "@jupyter-widgets/controls",
      "model_module_version": "1.5.0",
      "model_name": "DropdownModel",
      "state": {
       "_options_labels": [
        "sepal_length",
        "sepal_width",
        "petal_length",
        "petal_width"
       ],
       "description": "Attribute",
       "index": 0,
       "layout": "IPY_MODEL_169448b38d2d4e3494af20bc47040b01",
       "style": "IPY_MODEL_11b87d569f354e61a55d3762d9bb8c60"
      }
     },
     "13a3de9673b648af9163eab751a3a29f": {
      "model_module": "@jupyter-widgets/controls",
      "model_module_version": "1.5.0",
      "model_name": "VBoxModel",
      "state": {
       "_dom_classes": [
        "widget-interact"
       ],
       "children": [
        "IPY_MODEL_d4e6871d66364da3a80d774211624f2b",
        "IPY_MODEL_3f577fb65fb841708e7a7e4be79fc134",
        "IPY_MODEL_b618ec06b91a483b844f0071d8160ac3"
       ],
       "layout": "IPY_MODEL_45419c38baae49afade94064a973ce19"
      }
     },
     "148dba3c7d9740fba6d24c3402839c97": {
      "model_module": "@jupyter-widgets/base",
      "model_module_version": "1.2.0",
      "model_name": "LayoutModel",
      "state": {
       "border": "1px solid black"
      }
     },
     "164da6a7d45945e9acb0f82e7cabedca": {
      "model_module": "@jupyter-widgets/controls",
      "model_module_version": "1.5.0",
      "model_name": "ToggleButtonModel",
      "state": {
       "button_style": "success",
       "description": "Click me",
       "icon": "check",
       "layout": "IPY_MODEL_9285a67e0aff4f15a55e4070b0a20de1",
       "style": "IPY_MODEL_58f26922de704aeea0aeaeb591650360",
       "tooltip": "Description here"
      }
     },
     "169448b38d2d4e3494af20bc47040b01": {
      "model_module": "@jupyter-widgets/base",
      "model_module_version": "1.2.0",
      "model_name": "LayoutModel",
      "state": {}
     },
     "1820dbae07384cfd874c00538894d1b8": {
      "model_module": "@jupyter-widgets/controls",
      "model_module_version": "1.5.0",
      "model_name": "ToggleButtonsStyleModel",
      "state": {
       "button_width": "",
       "description_width": ""
      }
     },
     "1847ca3e7e3444d5a3d0054fc292f2d5": {
      "model_module": "@jupyter-widgets/controls",
      "model_module_version": "1.5.0",
      "model_name": "DropdownModel",
      "state": {
       "_options_labels": [
        "sepal_length",
        "sepal_width",
        "petal_length",
        "petal_width"
       ],
       "description": "Attribute",
       "index": 0,
       "layout": "IPY_MODEL_b9ad4d6e4acb478f9b6ec40a3fea485b",
       "style": "IPY_MODEL_798d8108afe64388ae67afed9c47f1d4"
      }
     },
     "198d55632b9842f587d4f56abb5a2326": {
      "model_module": "@jupyter-widgets/base",
      "model_module_version": "1.2.0",
      "model_name": "LayoutModel",
      "state": {}
     },
     "1a4a138f92ed4cd8b684e42a8eccbb1c": {
      "model_module": "@jupyter-widgets/output",
      "model_module_version": "1.0.0",
      "model_name": "OutputModel",
      "state": {
       "layout": "IPY_MODEL_7748b5ffce53480d860b3fa417194a04"
      }
     },
     "20a54467fac44730ad33261f0c0130ea": {
      "model_module": "@jupyter-widgets/controls",
      "model_module_version": "1.5.0",
      "model_name": "ToggleButtonsModel",
      "state": {
       "_options_labels": [
        "Boxplot",
        "Pointplot",
        "Stripplot"
       ],
       "button_style": "",
       "description": "Plot",
       "icons": [],
       "index": 0,
       "layout": "IPY_MODEL_a85927c17c3d4f51b55f5a4bffa9250d",
       "style": "IPY_MODEL_6988522505e94af5a4dd07ee1681f39b",
       "tooltips": []
      }
     },
     "255930dc82cc40e2acc552fd26f5691e": {
      "model_module": "@jupyter-widgets/output",
      "model_module_version": "1.0.0",
      "model_name": "OutputModel",
      "state": {
       "layout": "IPY_MODEL_2abce5b9a3c44cc281fc7ed8298a1c88",
       "outputs": [
        {
         "name": "stdout",
         "output_type": "stream",
         "text": "Test Click False.\n"
        }
       ]
      }
     },
     "25da52c5af704c4c8edcf9447e71de5c": {
      "model_module": "@jupyter-widgets/base",
      "model_module_version": "1.2.0",
      "model_name": "LayoutModel",
      "state": {}
     },
     "260b7f30206a4083b328fb61abacac0b": {
      "model_module": "@jupyter-widgets/controls",
      "model_module_version": "1.5.0",
      "model_name": "ToggleButtonsStyleModel",
      "state": {
       "button_width": "",
       "description_width": ""
      }
     },
     "29d958e9fd54454ca56be976266277bd": {
      "model_module": "@jupyter-widgets/base",
      "model_module_version": "1.2.0",
      "model_name": "LayoutModel",
      "state": {}
     },
     "2abce5b9a3c44cc281fc7ed8298a1c88": {
      "model_module": "@jupyter-widgets/base",
      "model_module_version": "1.2.0",
      "model_name": "LayoutModel",
      "state": {
       "border": "1px solid black"
      }
     },
     "2ca17d5681ba4d8e852955e0c4d29eed": {
      "model_module": "@jupyter-widgets/controls",
      "model_module_version": "1.5.0",
      "model_name": "DescriptionStyleModel",
      "state": {
       "description_width": ""
      }
     },
     "32c082870beb45f385f57697e28d98eb": {
      "model_module": "@jupyter-widgets/base",
      "model_module_version": "1.2.0",
      "model_name": "LayoutModel",
      "state": {}
     },
     "3423aeae36b24f8b87a46045d3f6d2f5": {
      "model_module": "@jupyter-widgets/controls",
      "model_module_version": "1.5.0",
      "model_name": "DropdownModel",
      "state": {
       "_options_labels": [
        "sepal_length",
        "sepal_width",
        "petal_length",
        "petal_width"
       ],
       "description": "Attribute",
       "index": 0,
       "layout": "IPY_MODEL_46b3475523f346fa9f2f307264fc3149",
       "style": "IPY_MODEL_a03e1c2ce7754953a68be9851dee7dc3"
      }
     },
     "35bcea3ffa3a4763a1e5cef94d2d50e8": {
      "model_module": "@jupyter-widgets/base",
      "model_module_version": "1.2.0",
      "model_name": "LayoutModel",
      "state": {}
     },
     "3686fec9afe94e50a77226d9607e51bf": {
      "model_module": "@jupyter-widgets/controls",
      "model_module_version": "1.5.0",
      "model_name": "VBoxModel",
      "state": {
       "_dom_classes": [
        "widget-interact"
       ],
       "children": [
        "IPY_MODEL_e8d3259a4d0e4d5aaced8d02141dfe34",
        "IPY_MODEL_e9d4a7f57afa4594a0349468f8f49a34",
        "IPY_MODEL_8d093903c5e6437991528c02cd4f6b2e"
       ],
       "layout": "IPY_MODEL_32c082870beb45f385f57697e28d98eb"
      }
     },
     "384dc85414ef45f8853bfe4fce1d4343": {
      "model_module": "@jupyter-widgets/output",
      "model_module_version": "1.0.0",
      "model_name": "OutputModel",
      "state": {
       "layout": "IPY_MODEL_64ed14fde8a447dcb1ce605a2bf4664d"
      }
     },
     "38faffa81c66427fac887c8405f04ba4": {
      "model_module": "@jupyter-widgets/controls",
      "model_module_version": "1.5.0",
      "model_name": "ToggleButtonModel",
      "state": {
       "button_style": "success",
       "description": "Click me",
       "icon": "check",
       "layout": "IPY_MODEL_3fc5d3d16fab46a5a94eaa949175f04d",
       "style": "IPY_MODEL_2ca17d5681ba4d8e852955e0c4d29eed",
       "tooltip": "Description here"
      }
     },
     "396e51c46eb4487a9e4c4050370ce86f": {
      "model_module": "@jupyter-widgets/output",
      "model_module_version": "1.0.0",
      "model_name": "OutputModel",
      "state": {
       "layout": "IPY_MODEL_eb72ecdef9414277940e24f492544a98"
      }
     },
     "3aa64577f2a04edfb853ba6513ccc831": {
      "model_module": "@jupyter-widgets/base",
      "model_module_version": "1.2.0",
      "model_name": "LayoutModel",
      "state": {}
     },
     "3b3fe7e412554ad0a2e388240e5924b5": {
      "model_module": "@jupyter-widgets/base",
      "model_module_version": "1.2.0",
      "model_name": "LayoutModel",
      "state": {}
     },
     "3d052f0da7cc48ceba3fc1c05bcfcd23": {
      "model_module": "@jupyter-widgets/base",
      "model_module_version": "1.2.0",
      "model_name": "LayoutModel",
      "state": {}
     },
     "3f577fb65fb841708e7a7e4be79fc134": {
      "model_module": "@jupyter-widgets/controls",
      "model_module_version": "1.5.0",
      "model_name": "ToggleButtonsModel",
      "state": {
       "_options_labels": [
        "Boxplot",
        "Pointplot",
        "Stripplot"
       ],
       "button_style": "",
       "description": "Plot",
       "icons": [],
       "index": 0,
       "layout": "IPY_MODEL_e81ac88f6c9d4a789e9aec193c79134f",
       "style": "IPY_MODEL_46bd310022a04a78b773aef31c34a387",
       "tooltips": []
      }
     },
     "3fb6356ff3ea404ba0447b4df9903cf1": {
      "model_module": "@jupyter-widgets/base",
      "model_module_version": "1.2.0",
      "model_name": "LayoutModel",
      "state": {}
     },
     "3fc5d3d16fab46a5a94eaa949175f04d": {
      "model_module": "@jupyter-widgets/base",
      "model_module_version": "1.2.0",
      "model_name": "LayoutModel",
      "state": {}
     },
     "40bcca1c6e8e4e02a536784e959568a3": {
      "model_module": "@jupyter-widgets/controls",
      "model_module_version": "1.5.0",
      "model_name": "DropdownModel",
      "state": {
       "_options_labels": [
        "sepal_length",
        "sepal_width",
        "petal_length",
        "petal_width"
       ],
       "description": "Attribute",
       "index": 0,
       "layout": "IPY_MODEL_f5b9a718c83b402d92332f052ca9e534",
       "style": "IPY_MODEL_afa47a1ee2314ec19d9ea6e793749fc7"
      }
     },
     "42e08e7fbc1d4803bbded361c98d8ed5": {
      "model_module": "@jupyter-widgets/controls",
      "model_module_version": "1.5.0",
      "model_name": "DescriptionStyleModel",
      "state": {
       "description_width": ""
      }
     },
     "44b806bc6a20476cac5232a6f87e75ce": {
      "model_module": "@jupyter-widgets/controls",
      "model_module_version": "1.5.0",
      "model_name": "ToggleButtonsStyleModel",
      "state": {
       "button_width": "",
       "description_width": ""
      }
     },
     "45419c38baae49afade94064a973ce19": {
      "model_module": "@jupyter-widgets/base",
      "model_module_version": "1.2.0",
      "model_name": "LayoutModel",
      "state": {}
     },
     "4618ba7c90d5420c9762db812a337d92": {
      "model_module": "@jupyter-widgets/base",
      "model_module_version": "1.2.0",
      "model_name": "LayoutModel",
      "state": {}
     },
     "46b3475523f346fa9f2f307264fc3149": {
      "model_module": "@jupyter-widgets/base",
      "model_module_version": "1.2.0",
      "model_name": "LayoutModel",
      "state": {}
     },
     "46bd310022a04a78b773aef31c34a387": {
      "model_module": "@jupyter-widgets/controls",
      "model_module_version": "1.5.0",
      "model_name": "ToggleButtonsStyleModel",
      "state": {
       "button_width": "",
       "description_width": ""
      }
     },
     "46c07d14fb164294aff29ab7f4e3fe11": {
      "model_module": "@jupyter-widgets/controls",
      "model_module_version": "1.5.0",
      "model_name": "DescriptionStyleModel",
      "state": {
       "description_width": ""
      }
     },
     "48858d8d88b44e12883def7f51a25b2a": {
      "model_module": "@jupyter-widgets/controls",
      "model_module_version": "1.5.0",
      "model_name": "DescriptionStyleModel",
      "state": {
       "description_width": ""
      }
     },
     "4bc930baf2d1405eaf3f8fb23b7409b6": {
      "model_module": "@jupyter-widgets/controls",
      "model_module_version": "1.5.0",
      "model_name": "DescriptionStyleModel",
      "state": {
       "description_width": ""
      }
     },
     "4ed26f4685ab46dd88dcf7c20dfa2a75": {
      "model_module": "@jupyter-widgets/base",
      "model_module_version": "1.2.0",
      "model_name": "LayoutModel",
      "state": {
       "border": "1px solid black"
      }
     },
     "514d5a1341dc42bcbf991e32684445ae": {
      "model_module": "@jupyter-widgets/base",
      "model_module_version": "1.2.0",
      "model_name": "LayoutModel",
      "state": {
       "border": "1px solid black"
      }
     },
     "58f26922de704aeea0aeaeb591650360": {
      "model_module": "@jupyter-widgets/controls",
      "model_module_version": "1.5.0",
      "model_name": "DescriptionStyleModel",
      "state": {
       "description_width": ""
      }
     },
     "594bd093ef7543a59c227aebbc568b64": {
      "model_module": "@jupyter-widgets/controls",
      "model_module_version": "1.5.0",
      "model_name": "VBoxModel",
      "state": {
       "_dom_classes": [
        "widget-interact"
       ],
       "children": [
        "IPY_MODEL_88ac9bd184b4495e8ad0ccc112ec812b",
        "IPY_MODEL_7d71439faae8431b8c1bc6c4f2a7e73c",
        "IPY_MODEL_cbc379a7bdfe42deab2179661f822c6d"
       ],
       "layout": "IPY_MODEL_d52822b51f074541becfd8f298956980"
      }
     },
     "5a867eb7fd6544488e3291dfc6fa6bb8": {
      "model_module": "@jupyter-widgets/controls",
      "model_module_version": "1.5.0",
      "model_name": "ToggleButtonsStyleModel",
      "state": {
       "button_width": "",
       "description_width": ""
      }
     },
     "5add385260c6421ba1f44e7c22587dc1": {
      "model_module": "@jupyter-widgets/controls",
      "model_module_version": "1.5.0",
      "model_name": "DescriptionStyleModel",
      "state": {
       "description_width": ""
      }
     },
     "5f8ad780515d4cf490c981cd8500da9e": {
      "model_module": "@jupyter-widgets/controls",
      "model_module_version": "1.5.0",
      "model_name": "DescriptionStyleModel",
      "state": {
       "description_width": ""
      }
     },
     "5fd2492a5eb24cf69e30980a06d8bf0a": {
      "model_module": "@jupyter-widgets/output",
      "model_module_version": "1.0.0",
      "model_name": "OutputModel",
      "state": {
       "layout": "IPY_MODEL_0357f8788f2e44029c3713e196bd8d47",
       "outputs": [
        {
         "data": {
          "image/png": "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\n",
          "text/plain": "<Figure size 432x288 with 1 Axes>"
         },
         "metadata": {
          "needs_background": "light"
         },
         "output_type": "display_data"
        }
       ]
      }
     },
     "6299e2adbf2f46a399293352a8971efa": {
      "model_module": "@jupyter-widgets/base",
      "model_module_version": "1.2.0",
      "model_name": "LayoutModel",
      "state": {}
     },
     "64ed14fde8a447dcb1ce605a2bf4664d": {
      "model_module": "@jupyter-widgets/base",
      "model_module_version": "1.2.0",
      "model_name": "LayoutModel",
      "state": {
       "border": "1px solid black"
      }
     },
     "6528fbed435d472f834f4586c6d5d97c": {
      "model_module": "@jupyter-widgets/controls",
      "model_module_version": "1.5.0",
      "model_name": "VBoxModel",
      "state": {
       "_dom_classes": [
        "widget-interact"
       ],
       "children": [
        "IPY_MODEL_3423aeae36b24f8b87a46045d3f6d2f5",
        "IPY_MODEL_df5240be65ed438daf9e852386a94bf8",
        "IPY_MODEL_d5e581ee750e4daf85c3e68c19079980"
       ],
       "layout": "IPY_MODEL_dcee00e2a310455abca2019acb613a7a"
      }
     },
     "695f0f4755ab46419605bec6b69012b6": {
      "model_module": "@jupyter-widgets/base",
      "model_module_version": "1.2.0",
      "model_name": "LayoutModel",
      "state": {}
     },
     "6988522505e94af5a4dd07ee1681f39b": {
      "model_module": "@jupyter-widgets/controls",
      "model_module_version": "1.5.0",
      "model_name": "ToggleButtonsStyleModel",
      "state": {
       "button_width": "",
       "description_width": ""
      }
     },
     "6e38ea2fc69a42c996a67cf92271a35d": {
      "model_module": "@jupyter-widgets/base",
      "model_module_version": "1.2.0",
      "model_name": "LayoutModel",
      "state": {}
     },
     "6e4918dbe06c47c9b25c1ab78d04d8b5": {
      "model_module": "@jupyter-widgets/base",
      "model_module_version": "1.2.0",
      "model_name": "LayoutModel",
      "state": {}
     },
     "70065c66b9f44e8582b4e7e6b95ffe5c": {
      "model_module": "@jupyter-widgets/base",
      "model_module_version": "1.2.0",
      "model_name": "LayoutModel",
      "state": {}
     },
     "71d6e086e92d4702b39deffd45296204": {
      "model_module": "@jupyter-widgets/controls",
      "model_module_version": "1.5.0",
      "model_name": "ToggleButtonsStyleModel",
      "state": {
       "button_width": "",
       "description_width": ""
      }
     },
     "72265562d2564ba2ab054d99bbc35533": {
      "model_module": "@jupyter-widgets/controls",
      "model_module_version": "1.5.0",
      "model_name": "ToggleButtonModel",
      "state": {
       "button_style": "success",
       "description": "Click me",
       "icon": "check",
       "layout": "IPY_MODEL_79eb72b2964440438927c6a1ab6c7e18",
       "style": "IPY_MODEL_0c03e8550de94f92a5c4a0b94ec506b7",
       "tooltip": "Description here",
       "value": true
      }
     },
     "765c621d263e47ca9df64ea3afb2cdd5": {
      "model_module": "@jupyter-widgets/base",
      "model_module_version": "1.2.0",
      "model_name": "LayoutModel",
      "state": {}
     },
     "7748b5ffce53480d860b3fa417194a04": {
      "model_module": "@jupyter-widgets/base",
      "model_module_version": "1.2.0",
      "model_name": "LayoutModel",
      "state": {}
     },
     "798d8108afe64388ae67afed9c47f1d4": {
      "model_module": "@jupyter-widgets/controls",
      "model_module_version": "1.5.0",
      "model_name": "DescriptionStyleModel",
      "state": {
       "description_width": ""
      }
     },
     "79eb72b2964440438927c6a1ab6c7e18": {
      "model_module": "@jupyter-widgets/base",
      "model_module_version": "1.2.0",
      "model_name": "LayoutModel",
      "state": {}
     },
     "7be4be1728694d8c9f1d711666a1637d": {
      "model_module": "@jupyter-widgets/base",
      "model_module_version": "1.2.0",
      "model_name": "LayoutModel",
      "state": {}
     },
     "7cf9b2f1cdf84e278419901dc40e09fb": {
      "model_module": "@jupyter-widgets/base",
      "model_module_version": "1.2.0",
      "model_name": "LayoutModel",
      "state": {}
     },
     "7d109c6d40b54a789577e4776f7c1bf1": {
      "model_module": "@jupyter-widgets/controls",
      "model_module_version": "1.5.0",
      "model_name": "ToggleButtonsModel",
      "state": {
       "_options_labels": [
        "Boxplot",
        "Pointplot",
        "Stripplot"
       ],
       "button_style": "",
       "description": "Plot",
       "icons": [],
       "index": 0,
       "layout": "IPY_MODEL_29d958e9fd54454ca56be976266277bd",
       "style": "IPY_MODEL_71d6e086e92d4702b39deffd45296204",
       "tooltips": []
      }
     },
     "7d71439faae8431b8c1bc6c4f2a7e73c": {
      "model_module": "@jupyter-widgets/controls",
      "model_module_version": "1.5.0",
      "model_name": "ToggleButtonsModel",
      "state": {
       "_options_labels": [
        "Boxplot",
        "Pointplot",
        "Stripplot"
       ],
       "button_style": "",
       "description": "Plot",
       "icons": [],
       "index": 0,
       "layout": "IPY_MODEL_062487c1a9ac4f8bb6cb8aea7aee3aae",
       "style": "IPY_MODEL_fe1b22a916184df8852881b125794b24",
       "tooltips": []
      }
     },
     "7f380e7b9b2f424e88df9b682956e25b": {
      "model_module": "@jupyter-widgets/base",
      "model_module_version": "1.2.0",
      "model_name": "LayoutModel",
      "state": {}
     },
     "80f207d577fc4c819db953a1a74b937e": {
      "model_module": "@jupyter-widgets/controls",
      "model_module_version": "1.5.0",
      "model_name": "ToggleButtonModel",
      "state": {
       "button_style": "success",
       "description": "Click me",
       "icon": "check",
       "layout": "IPY_MODEL_0e923d9eb19e41d7976de712cbc5dc66",
       "style": "IPY_MODEL_46c07d14fb164294aff29ab7f4e3fe11",
       "tooltip": "Description here"
      }
     },
     "816b0fa655d54f2eadfc104906860aca": {
      "model_module": "@jupyter-widgets/output",
      "model_module_version": "1.0.0",
      "model_name": "OutputModel",
      "state": {
       "layout": "IPY_MODEL_514d5a1341dc42bcbf991e32684445ae"
      }
     },
     "82fbe1a548414aa0b6158a93ab259459": {
      "model_module": "@jupyter-widgets/controls",
      "model_module_version": "1.5.0",
      "model_name": "ToggleButtonsStyleModel",
      "state": {
       "button_width": "",
       "description_width": ""
      }
     },
     "88ac9bd184b4495e8ad0ccc112ec812b": {
      "model_module": "@jupyter-widgets/controls",
      "model_module_version": "1.5.0",
      "model_name": "DropdownModel",
      "state": {
       "_options_labels": [
        "sepal_length",
        "sepal_width",
        "petal_length",
        "petal_width"
       ],
       "description": "Attribute",
       "index": 0,
       "layout": "IPY_MODEL_7be4be1728694d8c9f1d711666a1637d",
       "style": "IPY_MODEL_5add385260c6421ba1f44e7c22587dc1"
      }
     },
     "88fe5a7973344587a003990eb2dcf00d": {
      "model_module": "@jupyter-widgets/base",
      "model_module_version": "1.2.0",
      "model_name": "LayoutModel",
      "state": {}
     },
     "89d256d531df4de4a637d9f2b0acbed9": {
      "model_module": "@jupyter-widgets/base",
      "model_module_version": "1.2.0",
      "model_name": "LayoutModel",
      "state": {}
     },
     "8c4868dc22904c26a69c0d222451673a": {
      "model_module": "@jupyter-widgets/controls",
      "model_module_version": "1.5.0",
      "model_name": "VBoxModel",
      "state": {
       "_dom_classes": [
        "widget-interact"
       ],
       "children": [
        "IPY_MODEL_1318dbe25aa24f929204b9800122bca5",
        "IPY_MODEL_10fdf41fea084a268c08220d1bb9bca8",
        "IPY_MODEL_1a4a138f92ed4cd8b684e42a8eccbb1c"
       ],
       "layout": "IPY_MODEL_6e38ea2fc69a42c996a67cf92271a35d"
      }
     },
     "8cd50a4e74ce4164ae77b49abbf74605": {
      "model_module": "@jupyter-widgets/controls",
      "model_module_version": "1.5.0",
      "model_name": "DescriptionStyleModel",
      "state": {
       "description_width": ""
      }
     },
     "8d093903c5e6437991528c02cd4f6b2e": {
      "model_module": "@jupyter-widgets/output",
      "model_module_version": "1.0.0",
      "model_name": "OutputModel",
      "state": {
       "layout": "IPY_MODEL_e64c4725a22242238404840a5f8964f3"
      }
     },
     "8f501b75c5d3496b8415981cb3c4228d": {
      "model_module": "@jupyter-widgets/controls",
      "model_module_version": "1.5.0",
      "model_name": "ToggleButtonModel",
      "state": {
       "button_style": "success",
       "description": "Click me",
       "icon": "check",
       "layout": "IPY_MODEL_7f380e7b9b2f424e88df9b682956e25b",
       "style": "IPY_MODEL_5f8ad780515d4cf490c981cd8500da9e",
       "tooltip": "Description here"
      }
     },
     "9285a67e0aff4f15a55e4070b0a20de1": {
      "model_module": "@jupyter-widgets/base",
      "model_module_version": "1.2.0",
      "model_name": "LayoutModel",
      "state": {}
     },
     "941ea97d01704690bb0bb212a788b37d": {
      "model_module": "@jupyter-widgets/base",
      "model_module_version": "1.2.0",
      "model_name": "LayoutModel",
      "state": {}
     },
     "9571a77d707d4e27879c51e5972e633a": {
      "model_module": "@jupyter-widgets/controls",
      "model_module_version": "1.5.0",
      "model_name": "VBoxModel",
      "state": {
       "_dom_classes": [
        "widget-interact"
       ],
       "children": [
        "IPY_MODEL_10b699fcd831426799728da41f4a6de1",
        "IPY_MODEL_20a54467fac44730ad33261f0c0130ea",
        "IPY_MODEL_396e51c46eb4487a9e4c4050370ce86f"
       ],
       "layout": "IPY_MODEL_88fe5a7973344587a003990eb2dcf00d"
      }
     },
     "966c98c7d5094db0b4ee9cbc9bf4ba9f": {
      "model_module": "@jupyter-widgets/base",
      "model_module_version": "1.2.0",
      "model_name": "LayoutModel",
      "state": {}
     },
     "9715de232fc848b4b7a1d8498a692d10": {
      "model_module": "@jupyter-widgets/output",
      "model_module_version": "1.0.0",
      "model_name": "OutputModel",
      "state": {
       "layout": "IPY_MODEL_4ed26f4685ab46dd88dcf7c20dfa2a75"
      }
     },
     "a03e1c2ce7754953a68be9851dee7dc3": {
      "model_module": "@jupyter-widgets/controls",
      "model_module_version": "1.5.0",
      "model_name": "DescriptionStyleModel",
      "state": {
       "description_width": ""
      }
     },
     "a4460e7591fe449888a159e96ac1f259": {
      "model_module": "@jupyter-widgets/base",
      "model_module_version": "1.2.0",
      "model_name": "LayoutModel",
      "state": {
       "border": "1px solid black"
      }
     },
     "a85927c17c3d4f51b55f5a4bffa9250d": {
      "model_module": "@jupyter-widgets/base",
      "model_module_version": "1.2.0",
      "model_name": "LayoutModel",
      "state": {}
     },
     "a889380a8181435d98926fd10513dc1a": {
      "model_module": "@jupyter-widgets/controls",
      "model_module_version": "1.5.0",
      "model_name": "DescriptionStyleModel",
      "state": {
       "description_width": ""
      }
     },
     "acb456b605734ab3969347dacd2fdd40": {
      "model_module": "@jupyter-widgets/controls",
      "model_module_version": "1.5.0",
      "model_name": "ToggleButtonsModel",
      "state": {
       "_options_labels": [
        "Boxplot",
        "Pointplot",
        "Stripplot"
       ],
       "button_style": "",
       "description": "Plot",
       "icons": [],
       "index": 0,
       "layout": "IPY_MODEL_f7e9da7b43c946ab97c00077bf56e5c8",
       "style": "IPY_MODEL_09d99b325712498baf587a9e5ba1df81",
       "tooltips": []
      }
     },
     "afa47a1ee2314ec19d9ea6e793749fc7": {
      "model_module": "@jupyter-widgets/controls",
      "model_module_version": "1.5.0",
      "model_name": "DescriptionStyleModel",
      "state": {
       "description_width": ""
      }
     },
     "b05eea5f6f5743caa73874ed2ce16ade": {
      "model_module": "@jupyter-widgets/output",
      "model_module_version": "1.0.0",
      "model_name": "OutputModel",
      "state": {
       "layout": "IPY_MODEL_d047df195d58475291f438949994a079",
       "outputs": [
        {
         "name": "stdout",
         "output_type": "stream",
         "text": "Test Click True.\n"
        }
       ]
      }
     },
     "b46da5c5888a4855b5dbde39fc147a98": {
      "model_module": "@jupyter-widgets/controls",
      "model_module_version": "1.5.0",
      "model_name": "ToggleButtonsModel",
      "state": {
       "_options_labels": [
        "Boxplot",
        "Pointplot",
        "Stripplot"
       ],
       "button_style": "",
       "description": "Plot",
       "icons": [],
       "index": 0,
       "layout": "IPY_MODEL_89d256d531df4de4a637d9f2b0acbed9",
       "style": "IPY_MODEL_82fbe1a548414aa0b6158a93ab259459",
       "tooltips": []
      }
     },
     "b618ec06b91a483b844f0071d8160ac3": {
      "model_module": "@jupyter-widgets/output",
      "model_module_version": "1.0.0",
      "model_name": "OutputModel",
      "state": {
       "layout": "IPY_MODEL_3d052f0da7cc48ceba3fc1c05bcfcd23"
      }
     },
     "b85167e84bd94667adf76c5e08d934b9": {
      "model_module": "@jupyter-widgets/base",
      "model_module_version": "1.2.0",
      "model_name": "LayoutModel",
      "state": {}
     },
     "b9ad4d6e4acb478f9b6ec40a3fea485b": {
      "model_module": "@jupyter-widgets/base",
      "model_module_version": "1.2.0",
      "model_name": "LayoutModel",
      "state": {}
     },
     "bc73b534a892403680abfe903743742d": {
      "model_module": "@jupyter-widgets/output",
      "model_module_version": "1.0.0",
      "model_name": "OutputModel",
      "state": {
       "layout": "IPY_MODEL_148dba3c7d9740fba6d24c3402839c97"
      }
     },
     "be47ad807a294cb9b6ea5e655b732a55": {
      "model_module": "@jupyter-widgets/controls",
      "model_module_version": "1.5.0",
      "model_name": "DropdownModel",
      "state": {
       "_options_labels": [
        "sepal_length",
        "sepal_width",
        "petal_length",
        "petal_width"
       ],
       "description": "Attribute",
       "index": 0,
       "layout": "IPY_MODEL_3b3fe7e412554ad0a2e388240e5924b5",
       "style": "IPY_MODEL_8cd50a4e74ce4164ae77b49abbf74605"
      }
     },
     "c15a91b6374a429f816b4cb3b97f9884": {
      "model_module": "@jupyter-widgets/controls",
      "model_module_version": "1.5.0",
      "model_name": "DropdownModel",
      "state": {
       "_options_labels": [
        "sepal_length",
        "sepal_width",
        "petal_length",
        "petal_width"
       ],
       "description": "Attribute",
       "index": 0,
       "layout": "IPY_MODEL_3fb6356ff3ea404ba0447b4df9903cf1",
       "style": "IPY_MODEL_48858d8d88b44e12883def7f51a25b2a"
      }
     },
     "c30c0e6e11204daa9a821669c895aeeb": {
      "model_module": "@jupyter-widgets/output",
      "model_module_version": "1.0.0",
      "model_name": "OutputModel",
      "state": {
       "layout": "IPY_MODEL_a4460e7591fe449888a159e96ac1f259"
      }
     },
     "c69968039c6e4d0a9953eba263d400b1": {
      "model_module": "@jupyter-widgets/base",
      "model_module_version": "1.2.0",
      "model_name": "LayoutModel",
      "state": {}
     },
     "cae720892f57463f8a7c781fda0f079f": {
      "model_module": "@jupyter-widgets/base",
      "model_module_version": "1.2.0",
      "model_name": "LayoutModel",
      "state": {}
     },
     "cbc379a7bdfe42deab2179661f822c6d": {
      "model_module": "@jupyter-widgets/output",
      "model_module_version": "1.0.0",
      "model_name": "OutputModel",
      "state": {
       "layout": "IPY_MODEL_6299e2adbf2f46a399293352a8971efa"
      }
     },
     "d047df195d58475291f438949994a079": {
      "model_module": "@jupyter-widgets/base",
      "model_module_version": "1.2.0",
      "model_name": "LayoutModel",
      "state": {
       "border": "1px solid black"
      }
     },
     "d4c0691dbc324e7cb19bfb8b5851aa68": {
      "model_module": "@jupyter-widgets/output",
      "model_module_version": "1.0.0",
      "model_name": "OutputModel",
      "state": {
       "layout": "IPY_MODEL_198d55632b9842f587d4f56abb5a2326",
       "outputs": [
        {
         "data": {
          "text/plain": "<Figure size 640x480 with 1 Axes>"
         },
         "metadata": {},
         "output_type": "display_data"
        }
       ]
      }
     },
     "d4e6871d66364da3a80d774211624f2b": {
      "model_module": "@jupyter-widgets/controls",
      "model_module_version": "1.5.0",
      "model_name": "DropdownModel",
      "state": {
       "_options_labels": [
        "sepal_length",
        "sepal_width",
        "petal_length",
        "petal_width"
       ],
       "description": "Attribute",
       "index": 0,
       "layout": "IPY_MODEL_25da52c5af704c4c8edcf9447e71de5c",
       "style": "IPY_MODEL_42e08e7fbc1d4803bbded361c98d8ed5"
      }
     },
     "d52822b51f074541becfd8f298956980": {
      "model_module": "@jupyter-widgets/base",
      "model_module_version": "1.2.0",
      "model_name": "LayoutModel",
      "state": {}
     },
     "d598c892494d40068d25ef08c0c56f09": {
      "model_module": "@jupyter-widgets/controls",
      "model_module_version": "1.5.0",
      "model_name": "DescriptionStyleModel",
      "state": {
       "description_width": ""
      }
     },
     "d5e581ee750e4daf85c3e68c19079980": {
      "model_module": "@jupyter-widgets/output",
      "model_module_version": "1.0.0",
      "model_name": "OutputModel",
      "state": {
       "layout": "IPY_MODEL_c69968039c6e4d0a9953eba263d400b1"
      }
     },
     "d6161e01049a46d0ada0294dac2eb612": {
      "model_module": "@jupyter-widgets/controls",
      "model_module_version": "1.5.0",
      "model_name": "DescriptionStyleModel",
      "state": {
       "description_width": ""
      }
     },
     "d7ff0a78628e474d9e4cf2a2e913bb87": {
      "model_module": "@jupyter-widgets/base",
      "model_module_version": "1.2.0",
      "model_name": "LayoutModel",
      "state": {}
     },
     "daaf6e8f8eab45bfb032b2133fdba8ab": {
      "model_module": "@jupyter-widgets/output",
      "model_module_version": "1.0.0",
      "model_name": "OutputModel",
      "state": {
       "layout": "IPY_MODEL_4618ba7c90d5420c9762db812a337d92"
      }
     },
     "dafdeafe8da94061a8196b0f52b3fe33": {
      "model_module": "@jupyter-widgets/controls",
      "model_module_version": "1.5.0",
      "model_name": "VBoxModel",
      "state": {
       "_dom_classes": [
        "widget-interact"
       ],
       "children": [
        "IPY_MODEL_1847ca3e7e3444d5a3d0054fc292f2d5",
        "IPY_MODEL_b46da5c5888a4855b5dbde39fc147a98",
        "IPY_MODEL_d4c0691dbc324e7cb19bfb8b5851aa68"
       ],
       "layout": "IPY_MODEL_b85167e84bd94667adf76c5e08d934b9"
      }
     },
     "db5ca600fb9540fdaf87ff3dbbb15b7e": {
      "model_module": "@jupyter-widgets/controls",
      "model_module_version": "1.5.0",
      "model_name": "DescriptionStyleModel",
      "state": {
       "description_width": ""
      }
     },
     "dcee00e2a310455abca2019acb613a7a": {
      "model_module": "@jupyter-widgets/base",
      "model_module_version": "1.2.0",
      "model_name": "LayoutModel",
      "state": {}
     },
     "dd844ea8ad7743fb8f8c725bc4c334e8": {
      "model_module": "@jupyter-widgets/output",
      "model_module_version": "1.0.0",
      "model_name": "OutputModel",
      "state": {
       "layout": "IPY_MODEL_e46f5a7badcc47e8aed23f0d07a77d2d"
      }
     },
     "df5240be65ed438daf9e852386a94bf8": {
      "model_module": "@jupyter-widgets/controls",
      "model_module_version": "1.5.0",
      "model_name": "ToggleButtonsModel",
      "state": {
       "_options_labels": [
        "Boxplot",
        "Pointplot",
        "Stripplot"
       ],
       "button_style": "",
       "description": "Plot",
       "icons": [],
       "index": 0,
       "layout": "IPY_MODEL_3aa64577f2a04edfb853ba6513ccc831",
       "style": "IPY_MODEL_1820dbae07384cfd874c00538894d1b8",
       "tooltips": []
      }
     },
     "e2b8c6001b3b413aaf4955f63e2f9dce": {
      "model_module": "@jupyter-widgets/controls",
      "model_module_version": "1.5.0",
      "model_name": "ToggleButtonModel",
      "state": {
       "button_style": "success",
       "description": "Click me",
       "icon": "check",
       "layout": "IPY_MODEL_0afbf1c566ed404f9352e5a8f1372805",
       "style": "IPY_MODEL_db5ca600fb9540fdaf87ff3dbbb15b7e",
       "tooltip": "Description here"
      }
     },
     "e46f5a7badcc47e8aed23f0d07a77d2d": {
      "model_module": "@jupyter-widgets/base",
      "model_module_version": "1.2.0",
      "model_name": "LayoutModel",
      "state": {
       "border": "1px solid black"
      }
     },
     "e64c4725a22242238404840a5f8964f3": {
      "model_module": "@jupyter-widgets/base",
      "model_module_version": "1.2.0",
      "model_name": "LayoutModel",
      "state": {}
     },
     "e78161c168094fe09338c8a5c2516133": {
      "model_module": "@jupyter-widgets/controls",
      "model_module_version": "1.5.0",
      "model_name": "ToggleButtonModel",
      "state": {
       "button_style": "success",
       "description": "Click me",
       "icon": "check",
       "layout": "IPY_MODEL_695f0f4755ab46419605bec6b69012b6",
       "style": "IPY_MODEL_d598c892494d40068d25ef08c0c56f09",
       "tooltip": "Description here"
      }
     },
     "e81ac88f6c9d4a789e9aec193c79134f": {
      "model_module": "@jupyter-widgets/base",
      "model_module_version": "1.2.0",
      "model_name": "LayoutModel",
      "state": {}
     },
     "e8d3259a4d0e4d5aaced8d02141dfe34": {
      "model_module": "@jupyter-widgets/controls",
      "model_module_version": "1.5.0",
      "model_name": "DropdownModel",
      "state": {
       "_options_labels": [
        "sepal_length",
        "sepal_width",
        "petal_length",
        "petal_width"
       ],
       "description": "Attribute",
       "index": 0,
       "layout": "IPY_MODEL_35bcea3ffa3a4763a1e5cef94d2d50e8",
       "style": "IPY_MODEL_d6161e01049a46d0ada0294dac2eb612"
      }
     },
     "e9d4a7f57afa4594a0349468f8f49a34": {
      "model_module": "@jupyter-widgets/controls",
      "model_module_version": "1.5.0",
      "model_name": "ToggleButtonsModel",
      "state": {
       "_options_labels": [
        "Boxplot",
        "Pointplot",
        "Stripplot"
       ],
       "button_style": "",
       "description": "Plot",
       "icons": [],
       "index": 2,
       "layout": "IPY_MODEL_70065c66b9f44e8582b4e7e6b95ffe5c",
       "style": "IPY_MODEL_44b806bc6a20476cac5232a6f87e75ce",
       "tooltips": []
      }
     },
     "eb72ecdef9414277940e24f492544a98": {
      "model_module": "@jupyter-widgets/base",
      "model_module_version": "1.2.0",
      "model_name": "LayoutModel",
      "state": {}
     },
     "f0ab6f9f4bf14c9a81d4f1fe99e782a4": {
      "model_module": "@jupyter-widgets/base",
      "model_module_version": "1.2.0",
      "model_name": "LayoutModel",
      "state": {}
     },
     "f5b9a718c83b402d92332f052ca9e534": {
      "model_module": "@jupyter-widgets/base",
      "model_module_version": "1.2.0",
      "model_name": "LayoutModel",
      "state": {}
     },
     "f6560cf41d454c5e872cecaa0a8aac91": {
      "model_module": "@jupyter-widgets/controls",
      "model_module_version": "1.5.0",
      "model_name": "VBoxModel",
      "state": {
       "_dom_classes": [
        "widget-interact"
       ],
       "children": [
        "IPY_MODEL_c15a91b6374a429f816b4cb3b97f9884",
        "IPY_MODEL_7d109c6d40b54a789577e4776f7c1bf1",
        "IPY_MODEL_daaf6e8f8eab45bfb032b2133fdba8ab"
       ],
       "layout": "IPY_MODEL_7cf9b2f1cdf84e278419901dc40e09fb"
      }
     },
     "f7e9da7b43c946ab97c00077bf56e5c8": {
      "model_module": "@jupyter-widgets/base",
      "model_module_version": "1.2.0",
      "model_name": "LayoutModel",
      "state": {}
     },
     "fe07ba4c6e0a460a972636983aa33224": {
      "model_module": "@jupyter-widgets/controls",
      "model_module_version": "1.5.0",
      "model_name": "VBoxModel",
      "state": {
       "_dom_classes": [
        "widget-interact"
       ],
       "children": [
        "IPY_MODEL_40bcca1c6e8e4e02a536784e959568a3",
        "IPY_MODEL_097138a228174917a6123399238fbb47",
        "IPY_MODEL_0e2adc0d4e924e539453a397e897401b"
       ],
       "layout": "IPY_MODEL_d7ff0a78628e474d9e4cf2a2e913bb87"
      }
     },
     "fe1b22a916184df8852881b125794b24": {
      "model_module": "@jupyter-widgets/controls",
      "model_module_version": "1.5.0",
      "model_name": "ToggleButtonsStyleModel",
      "state": {
       "button_width": "",
       "description_width": ""
      }
     }
    },
    "version_major": 2,
    "version_minor": 0
   }
  }
 },
 "nbformat": 4,
 "nbformat_minor": 4
}
